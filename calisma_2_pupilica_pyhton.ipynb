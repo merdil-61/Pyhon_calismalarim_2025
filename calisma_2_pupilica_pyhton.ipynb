{
  "nbformat": 4,
  "nbformat_minor": 0,
  "metadata": {
    "colab": {
      "provenance": []
    },
    "kernelspec": {
      "name": "python3",
      "display_name": "Python 3"
    },
    "language_info": {
      "name": "python"
    }
  },
  "cells": [
    {
      "cell_type": "code",
      "execution_count": null,
      "metadata": {
        "colab": {
          "base_uri": "https://localhost:8080/"
        },
        "id": "IKO_aC16pI7z",
        "outputId": "c8108fcd-3c66-4669-b757-727f6fb6680d"
      },
      "outputs": [
        {
          "output_type": "stream",
          "name": "stdout",
          "text": [
            "Merhaba, Pupilica- Pyhton\n"
          ]
        }
      ],
      "source": [
        "print(\"Merhaba, Pupilica- Pyhton\")"
      ]
    },
    {
      "cell_type": "code",
      "source": [
        "import sys\n",
        "print(sys.version)"
      ],
      "metadata": {
        "colab": {
          "base_uri": "https://localhost:8080/"
        },
        "id": "sY2xP8ucpTE-",
        "outputId": "de937438-0df5-4557-8d53-2a8d84bf1188"
      },
      "execution_count": null,
      "outputs": [
        {
          "output_type": "stream",
          "name": "stdout",
          "text": [
            "3.11.11 (main, Dec  4 2024, 08:55:07) [GCC 11.4.0]\n"
          ]
        }
      ]
    },
    {
      "cell_type": "code",
      "source": [
        "from google.colab import drive\n",
        "drive.mount('/content/drive')"
      ],
      "metadata": {
        "colab": {
          "base_uri": "https://localhost:8080/"
        },
        "id": "AAiVOgONpW1H",
        "outputId": "9e03f823-b17e-479c-9bce-245dca6d0bd7"
      },
      "execution_count": null,
      "outputs": [
        {
          "output_type": "stream",
          "name": "stdout",
          "text": [
            "Mounted at /content/drive\n"
          ]
        }
      ]
    },
    {
      "cell_type": "code",
      "source": [
        "import os\n",
        "os.chdir('/content/drive/My Drive/veri_algoritmaları/veri_algoritmaları')\n",
        "!pwd"
      ],
      "metadata": {
        "colab": {
          "base_uri": "https://localhost:8080/"
        },
        "id": "BjhHscERpaYX",
        "outputId": "394cd85d-6594-4640-ce3c-d4eb2a5175cd"
      },
      "execution_count": null,
      "outputs": [
        {
          "output_type": "stream",
          "name": "stdout",
          "text": [
            "/content/drive/My Drive/veri_algoritmaları/veri_algoritmaları\n"
          ]
        }
      ]
    },
    {
      "cell_type": "markdown",
      "source": [
        "##Dizgiler\n",
        "\n",
        "Pyhtonda dizgi tanımlamak için tek tırnak veya çift tırnak kullanılır."
      ],
      "metadata": {
        "id": "cK8HWO0CJGT1"
      }
    },
    {
      "cell_type": "code",
      "source": [
        "print('Merhaba Dünya')\n",
        "print(\"Selamlar\")"
      ],
      "metadata": {
        "colab": {
          "base_uri": "https://localhost:8080/"
        },
        "id": "76PN3XLDIb82",
        "outputId": "667f461e-738c-4b1e-94f4-09bf70b8dced"
      },
      "execution_count": null,
      "outputs": [
        {
          "output_type": "stream",
          "name": "stdout",
          "text": [
            "Merhaba Dünya\n",
            "Selamlar\n"
          ]
        }
      ]
    },
    {
      "cell_type": "code",
      "source": [
        "print(type('Selamlar'))"
      ],
      "metadata": {
        "colab": {
          "base_uri": "https://localhost:8080/"
        },
        "id": "ZZq0SZ38JdFf",
        "outputId": "be2a6990-6aef-4992-9dc3-e1eb20283ce5"
      },
      "execution_count": null,
      "outputs": [
        {
          "output_type": "stream",
          "name": "stdout",
          "text": [
            "<class 'str'>\n"
          ]
        }
      ]
    },
    {
      "cell_type": "markdown",
      "source": [
        "Çeşitli string tanımlama örnekleri"
      ],
      "metadata": {
        "id": "9Q_HDzNQJjYX"
      }
    },
    {
      "cell_type": "code",
      "source": [
        "kelime='kelime'\n",
        "\n",
        "cümle=\"Bu bir cümle\"\n",
        "paragraf=\"\"\"Bu bir paragraf. birden fazla cümleden oluşur.\n",
        "İstenirse alt satıra da yazılır.\"\"\" #Çift tırnakların yerine tek tırnak da kullanılabilir.\n",
        "altSatir=\"Merhaba\\nDünya\"\n",
        "\n",
        "\"\"\"Bu çok satırlı\n",
        "bir yorumdur.\"\"\"\n",
        "\n",
        "print(kelime)\n",
        "print()\n",
        "print(cümle)\n",
        "print()\n",
        "print(paragraf)\n",
        "print()\n",
        "print(altSatir)\n",
        "print()\n"
      ],
      "metadata": {
        "colab": {
          "base_uri": "https://localhost:8080/"
        },
        "id": "NqeOPzPpJiH6",
        "outputId": "937c54e6-9e93-4785-c90a-196400350922"
      },
      "execution_count": null,
      "outputs": [
        {
          "output_type": "stream",
          "name": "stdout",
          "text": [
            "kelime\n",
            "\n",
            "Bu bir cümle\n",
            "\n",
            "Bu bir paragraf. birden fazla cümleden oluşur.\n",
            "İstenirse alt satıra da yazılır.\n",
            "\n",
            "Merhaba\n",
            "Dünya\n",
            "\n"
          ]
        }
      ]
    },
    {
      "cell_type": "code",
      "source": [
        "print('\\\\')#Dizgilerin içine tek tırnak veya çift tırnak koymak için bu ifadelerden önce \"\\\" karakterini eklemek gerekli.\"\n",
        "#Bir de 'ile' karakterlerinin farklı olduğunu söylemek iyi olur."
      ],
      "metadata": {
        "colab": {
          "base_uri": "https://localhost:8080/"
        },
        "id": "OwnusEFXKmkU",
        "outputId": "1f64a218-58a8-4836-a278-57e1f3973280"
      },
      "execution_count": null,
      "outputs": [
        {
          "output_type": "stream",
          "name": "stdout",
          "text": [
            "\\\n"
          ]
        }
      ]
    },
    {
      "cell_type": "code",
      "source": [
        "haber1='Güneş Sistemimizde \\'dokuzuncu\\' gezegen keşfedilmiş olabilir!'\n",
        "haber2=\"Plüto, 2006 yılında \\\"cüce gezegen\\\" olarak tanımlanmıştı.\"\n",
        "haber2a=\"\"\"Toplanan veriler heyecan verici olsa da, \"ölçüm kalitesi\" bilim insanlarını düşündürüyor.\"\"\"\n",
        "print(haber1)\n",
        "print(haber2)\n",
        "print(haber2a)"
      ],
      "metadata": {
        "colab": {
          "base_uri": "https://localhost:8080/"
        },
        "id": "5x8dprhJLNQ4",
        "outputId": "832ce137-b9be-4e88-e370-1b991771fd97"
      },
      "execution_count": null,
      "outputs": [
        {
          "output_type": "stream",
          "name": "stdout",
          "text": [
            "Güneş Sistemimizde 'dokuzuncu' gezegen keşfedilmiş olabilir!\n",
            "Plüto, 2006 yılında \"cüce gezegen\" olarak tanımlanmıştı.\n",
            "Toplanan veriler heyecan verici olsa da, \"ölçüm kalitesi\" bilim insanlarını düşündürüyor.\n"
          ]
        }
      ]
    },
    {
      "cell_type": "code",
      "source": [
        "#'Güneş Sistemimizde 'dokuzuncu' gezegen keşfedilmiş olabilir!'"
      ],
      "metadata": {
        "id": "sqSf-DmnMKTj"
      },
      "execution_count": null,
      "outputs": []
    },
    {
      "cell_type": "markdown",
      "source": [
        "Pyhton'da +işareti ile dizgiler uç uca eklenir (string cconcentration)."
      ],
      "metadata": {
        "id": "2TkXn47KMU9C"
      }
    },
    {
      "cell_type": "code",
      "source": [
        "print(\"Merhaba\" + \" \" + \"Dünya\")"
      ],
      "metadata": {
        "colab": {
          "base_uri": "https://localhost:8080/"
        },
        "id": "DW-Uv6hNMeqD",
        "outputId": "32031937-603f-4ab8-b48d-835089634a0a"
      },
      "execution_count": null,
      "outputs": [
        {
          "output_type": "stream",
          "name": "stdout",
          "text": [
            "Merhaba Dünya\n"
          ]
        }
      ]
    },
    {
      "cell_type": "code",
      "source": [
        "print(1+2)\n",
        "\n",
        "print('1'+'2')"
      ],
      "metadata": {
        "colab": {
          "base_uri": "https://localhost:8080/"
        },
        "id": "IbtfL8F-MorG",
        "outputId": "a939240f-4266-49b2-d443-d6fc2220d314"
      },
      "execution_count": null,
      "outputs": [
        {
          "output_type": "stream",
          "name": "stdout",
          "text": [
            "3\n",
            "12\n"
          ]
        }
      ]
    },
    {
      "cell_type": "markdown",
      "source": [
        "Bu okunaklı olsa da görece olarak yavaştır.\n",
        "\n",
        "Pyhton'da  ' işareti ile dizgiler tekrarlanabilir(string repetition)."
      ],
      "metadata": {
        "id": "BwcCPTQuM0ha"
      }
    },
    {
      "cell_type": "code",
      "source": [
        "print(2*3)\n",
        "print('2'*3)"
      ],
      "metadata": {
        "colab": {
          "base_uri": "https://localhost:8080/"
        },
        "id": "FtbVWEKSNLJ2",
        "outputId": "a975fb82-0bb0-4c6d-91a9-b34c4d71c32f"
      },
      "execution_count": null,
      "outputs": [
        {
          "output_type": "stream",
          "name": "stdout",
          "text": [
            "6\n",
            "222\n"
          ]
        }
      ]
    },
    {
      "cell_type": "code",
      "source": [
        "print('Merhaba Dünya' *3)"
      ],
      "metadata": {
        "colab": {
          "base_uri": "https://localhost:8080/"
        },
        "id": "htV7RFwRNUbd",
        "outputId": "2c8cc0cf-0d93-479e-837b-362e43d5aad6"
      },
      "execution_count": null,
      "outputs": [
        {
          "output_type": "stream",
          "name": "stdout",
          "text": [
            "Merhaba DünyaMerhaba DünyaMerhaba Dünya\n"
          ]
        }
      ]
    },
    {
      "cell_type": "markdown",
      "source": [
        "#Fonksiyon Tanımlama\n",
        "\n",
        "Pyhtonda fonksiyon tanımlamak için def anahtar sözcüğü ve girintileri kullanıyoruz.\n"
      ],
      "metadata": {
        "id": "rf3SpmHMNjnV"
      }
    },
    {
      "cell_type": "code",
      "source": [
        "def topla(a,b):\n",
        "  return a+b\n",
        "\n",
        "def toplaDondurme(a,b):\n",
        "  a+b\n",
        "  #return None\n",
        "\n",
        "def toplaDondurmeYazdir(a,b):\n",
        "    a+b\n",
        "    print(a+b)\n",
        "\n",
        "print(topla(1,2))\n",
        "print(toplaDondurme(1,2))\n",
        "print()\n",
        "k=toplaDondurmeYazdir(1,2)\n",
        "print(k)"
      ],
      "metadata": {
        "colab": {
          "base_uri": "https://localhost:8080/"
        },
        "id": "6V6qf2NRP_F2",
        "outputId": "dc146ee3-1f60-4f11-c4cd-78584eb595fa"
      },
      "execution_count": null,
      "outputs": [
        {
          "output_type": "stream",
          "name": "stdout",
          "text": [
            "3\n",
            "None\n",
            "\n",
            "3\n",
            "None\n"
          ]
        }
      ]
    },
    {
      "cell_type": "code",
      "source": [
        "print(topla(1,2))\n",
        "print(topla('bir','iki'))"
      ],
      "metadata": {
        "colab": {
          "base_uri": "https://localhost:8080/"
        },
        "id": "XPMv9a6bRLcx",
        "outputId": "ba003a0e-572e-4406-cb0f-b35b567e4cb1"
      },
      "execution_count": null,
      "outputs": [
        {
          "output_type": "stream",
          "name": "stdout",
          "text": [
            "3\n",
            "biriki\n"
          ]
        }
      ]
    },
    {
      "cell_type": "code",
      "source": [
        "#print(topla(1,'iki')) #Bu hata verecek, ^karakerizni kaldırıp deneyebilirsiniz."
      ],
      "metadata": {
        "colab": {
          "base_uri": "https://localhost:8080/",
          "height": 263
        },
        "id": "b06hYDQxRbew",
        "outputId": "bba24035-2959-4138-f303-5728ed4a2826"
      },
      "execution_count": null,
      "outputs": [
        {
          "output_type": "error",
          "ename": "TypeError",
          "evalue": "unsupported operand type(s) for +: 'int' and 'str'",
          "traceback": [
            "\u001b[0;31m---------------------------------------------------------------------------\u001b[0m",
            "\u001b[0;31mTypeError\u001b[0m                                 Traceback (most recent call last)",
            "\u001b[0;32m<ipython-input-38-ce2ae30e1896>\u001b[0m in \u001b[0;36m<cell line: 0>\u001b[0;34m()\u001b[0m\n\u001b[0;32m----> 1\u001b[0;31m \u001b[0mprint\u001b[0m\u001b[0;34m(\u001b[0m\u001b[0mtopla\u001b[0m\u001b[0;34m(\u001b[0m\u001b[0;36m1\u001b[0m\u001b[0;34m,\u001b[0m\u001b[0;34m'iki'\u001b[0m\u001b[0;34m)\u001b[0m\u001b[0;34m)\u001b[0m\u001b[0;34m\u001b[0m\u001b[0;34m\u001b[0m\u001b[0m\n\u001b[0m",
            "\u001b[0;32m<ipython-input-36-7cf66a03a563>\u001b[0m in \u001b[0;36mtopla\u001b[0;34m(a, b)\u001b[0m\n\u001b[1;32m      1\u001b[0m \u001b[0;32mdef\u001b[0m \u001b[0mtopla\u001b[0m\u001b[0;34m(\u001b[0m\u001b[0ma\u001b[0m\u001b[0;34m,\u001b[0m\u001b[0mb\u001b[0m\u001b[0;34m)\u001b[0m\u001b[0;34m:\u001b[0m\u001b[0;34m\u001b[0m\u001b[0;34m\u001b[0m\u001b[0m\n\u001b[0;32m----> 2\u001b[0;31m   \u001b[0;32mreturn\u001b[0m \u001b[0ma\u001b[0m\u001b[0;34m+\u001b[0m\u001b[0mb\u001b[0m\u001b[0;34m\u001b[0m\u001b[0;34m\u001b[0m\u001b[0m\n\u001b[0m\u001b[1;32m      3\u001b[0m \u001b[0;34m\u001b[0m\u001b[0m\n\u001b[1;32m      4\u001b[0m \u001b[0;32mdef\u001b[0m \u001b[0mtoplaDondurme\u001b[0m\u001b[0;34m(\u001b[0m\u001b[0ma\u001b[0m\u001b[0;34m,\u001b[0m\u001b[0mb\u001b[0m\u001b[0;34m)\u001b[0m\u001b[0;34m:\u001b[0m\u001b[0;34m\u001b[0m\u001b[0;34m\u001b[0m\u001b[0m\n\u001b[1;32m      5\u001b[0m   \u001b[0ma\u001b[0m\u001b[0;34m+\u001b[0m\u001b[0mb\u001b[0m\u001b[0;34m\u001b[0m\u001b[0;34m\u001b[0m\u001b[0m\n",
            "\u001b[0;31mTypeError\u001b[0m: unsupported operand type(s) for +: 'int' and 'str'"
          ]
        }
      ]
    },
    {
      "cell_type": "code",
      "source": [
        "def bilgiYazdir(isim,yas):\n",
        "  print(f'isim: {isim}\\nYas: {yas}')\n",
        "\n",
        "bilgiYazdir('Zeynep',22) #isim='Zeynep', yas=22\n",
        "print()\n",
        "bilgiYazdir(22, 'Zeynep') #isim=22, yas ='Zeynep'"
      ],
      "metadata": {
        "colab": {
          "base_uri": "https://localhost:8080/"
        },
        "id": "wjoQJ5SYRw00",
        "outputId": "c357bb75-2252-44e3-fa37-cdddad369d3e"
      },
      "execution_count": null,
      "outputs": [
        {
          "output_type": "stream",
          "name": "stdout",
          "text": [
            "isim: Zeynep\n",
            "Yas: 22\n",
            "\n",
            "isim: 22\n",
            "Yas: Zeynep\n"
          ]
        }
      ]
    },
    {
      "cell_type": "code",
      "source": [
        "bilgiYazdir('Zeynep',22)\n",
        "print()\n",
        "bilgiYazdir(yas = 22, isim ='Zeynep')"
      ],
      "metadata": {
        "colab": {
          "base_uri": "https://localhost:8080/"
        },
        "id": "mUFJFXIuSshD",
        "outputId": "84079db5-d515-4341-a04c-0d016d75d0a7"
      },
      "execution_count": null,
      "outputs": [
        {
          "output_type": "stream",
          "name": "stdout",
          "text": [
            "isim: Zeynep\n",
            "Yas: 22\n",
            "\n",
            "isim: Zeynep\n",
            "Yas: 22\n"
          ]
        }
      ]
    },
    {
      "cell_type": "code",
      "source": [
        "def bilgiYazdir(isim, yas =25):\n",
        "  print(f'isim: {isim}\\nYas: {yas}')\n",
        "\n",
        "bilgiYazdir('Zeynep',22)\n",
        "print()\n",
        "bilgiYazdir('Zeynep')"
      ],
      "metadata": {
        "colab": {
          "base_uri": "https://localhost:8080/"
        },
        "id": "i-QVSvklTBcL",
        "outputId": "349d3829-2cbd-455e-b1fa-0048e3cf7d71"
      },
      "execution_count": null,
      "outputs": [
        {
          "output_type": "stream",
          "name": "stdout",
          "text": [
            "isim: Zeynep\n",
            "Yas: 22\n",
            "\n",
            "isim: Zeynep\n",
            "Yas: 25\n"
          ]
        }
      ]
    },
    {
      "cell_type": "code",
      "source": [
        "def sacmaFonksiyon(a,b=1,c=1,d=1,e=0):\n",
        "  return (a+b+d+e)*c"
      ],
      "metadata": {
        "id": "pJEfP7ICTYW_"
      },
      "execution_count": null,
      "outputs": []
    },
    {
      "cell_type": "code",
      "source": [
        "print(sacmaFonksiyon(1))"
      ],
      "metadata": {
        "colab": {
          "base_uri": "https://localhost:8080/"
        },
        "id": "CH3AO_9RTmfG",
        "outputId": "096fbd25-a687-4489-9336-7c4a107d377c"
      },
      "execution_count": null,
      "outputs": [
        {
          "output_type": "stream",
          "name": "stdout",
          "text": [
            "3\n"
          ]
        }
      ]
    },
    {
      "cell_type": "code",
      "source": [
        "print(sacmaFonksiyon(1,c=2))"
      ],
      "metadata": {
        "colab": {
          "base_uri": "https://localhost:8080/"
        },
        "id": "i9OwmPSqTqh8",
        "outputId": "2e22efc3-b721-4e80-97ca-fb489f577b0c"
      },
      "execution_count": null,
      "outputs": [
        {
          "output_type": "stream",
          "name": "stdout",
          "text": [
            "6\n"
          ]
        }
      ]
    },
    {
      "cell_type": "code",
      "source": [
        "def bilgiYazdir(isim='Berk',yas=25):\n",
        "  print(f'isim: {isim}\\nYas: {yas}')\n",
        "  bilgiYazdir() #isim ='Berk2,yas=25"
      ],
      "metadata": {
        "id": "Ik9OOZOfT5He"
      },
      "execution_count": null,
      "outputs": []
    },
    {
      "cell_type": "markdown",
      "source": [
        "##Koleksiyonlar\n",
        "\n",
        "Listeler\n",
        "\n",
        "Herhabgi tür veri tutabilen ve içeriği değiştirilebilen genel koleksiyon veri yapısı-büyütülebilir küçültülebilir.Dilimleme operasyonlarını destekler."
      ],
      "metadata": {
        "id": "HwvzH3hAUivJ"
      }
    },
    {
      "cell_type": "code",
      "source": [
        "a=[1,2,3]\n",
        "print(a)\n",
        "print(type(a))"
      ],
      "metadata": {
        "colab": {
          "base_uri": "https://localhost:8080/"
        },
        "id": "zFP-3hArUhnJ",
        "outputId": "48972b0c-fe85-4ae1-824e-2b6be0d1d67b"
      },
      "execution_count": null,
      "outputs": [
        {
          "output_type": "stream",
          "name": "stdout",
          "text": [
            "[1, 2, 3]\n",
            "<class 'list'>\n"
          ]
        }
      ]
    },
    {
      "cell_type": "code",
      "source": [
        "#Farklı türler\n",
        "b=[1,1.1,\"hello\"]\n",
        "print(b)\n",
        "print(b[1])\n",
        "b[1]=0\n",
        "print(b[1])"
      ],
      "metadata": {
        "colab": {
          "base_uri": "https://localhost:8080/"
        },
        "id": "B4EfSbljU7uk",
        "outputId": "8f9c7e03-cb65-4985-b2b8-1e600f798d25"
      },
      "execution_count": null,
      "outputs": [
        {
          "output_type": "stream",
          "name": "stdout",
          "text": [
            "[1, 1.1, 'hello']\n",
            "1.1\n",
            "0\n"
          ]
        }
      ]
    },
    {
      "cell_type": "code",
      "source": [
        "#Değiştirilebilir\n",
        "a=[1,2,3]\n",
        "a[2]=4.4\n",
        "a[1] -= 1 #a[1] =a[1] -1\n",
        "a[0] = 'world'\n",
        "print(a)"
      ],
      "metadata": {
        "colab": {
          "base_uri": "https://localhost:8080/"
        },
        "id": "uliEFXDmVQ3J",
        "outputId": "0b130591-f8e2-4565-975b-23c686d4b3d1"
      },
      "execution_count": null,
      "outputs": [
        {
          "output_type": "stream",
          "name": "stdout",
          "text": [
            "['world', 1, 4.4]\n"
          ]
        }
      ]
    },
    {
      "cell_type": "code",
      "source": [
        "#Eleman sayısı\n",
        "len([1,2,3])"
      ],
      "metadata": {
        "colab": {
          "base_uri": "https://localhost:8080/"
        },
        "id": "Gxi-IGx8VvKZ",
        "outputId": "518e1e36-0a40-4d48-ed15-f4b21e8655f5"
      },
      "execution_count": null,
      "outputs": [
        {
          "output_type": "execute_result",
          "data": {
            "text/plain": [
              "3"
            ]
          },
          "metadata": {},
          "execution_count": 52
        }
      ]
    },
    {
      "cell_type": "code",
      "source": [
        "#Eleman ekle ve çıkarmak\n",
        "a=[]\n",
        "print(a)\n",
        "a.append(1)\n",
        "a.append(2)\n",
        "a.append('pyhton')\n",
        "a.append(-9.3)\n",
        "print(a)\n",
        "del a[2]\n",
        "print(a)"
      ],
      "metadata": {
        "colab": {
          "base_uri": "https://localhost:8080/"
        },
        "id": "7vCcwc-nV56I",
        "outputId": "c7aea22e-5e41-421c-b5a6-20c84c0c0dc5"
      },
      "execution_count": null,
      "outputs": [
        {
          "output_type": "stream",
          "name": "stdout",
          "text": [
            "[]\n",
            "[1, 2, 'pyhton', -9.3]\n",
            "[1, 2, -9.3]\n"
          ]
        }
      ]
    },
    {
      "cell_type": "markdown",
      "source": [
        "Ekleme(+) ve tekrarlama(*)"
      ],
      "metadata": {
        "id": "mrLK7rtnWW0P"
      }
    },
    {
      "cell_type": "code",
      "source": [
        "a =[1]*100\n",
        "print(a)\n",
        "print(len(a))"
      ],
      "metadata": {
        "colab": {
          "base_uri": "https://localhost:8080/"
        },
        "id": "qNbOCNvaWhZM",
        "outputId": "673c5310-2328-428d-a7ad-5f0c4ec2588f"
      },
      "execution_count": null,
      "outputs": [
        {
          "output_type": "stream",
          "name": "stdout",
          "text": [
            "[1, 1, 1, 1, 1, 1, 1, 1, 1, 1, 1, 1, 1, 1, 1, 1, 1, 1, 1, 1, 1, 1, 1, 1, 1, 1, 1, 1, 1, 1, 1, 1, 1, 1, 1, 1, 1, 1, 1, 1, 1, 1, 1, 1, 1, 1, 1, 1, 1, 1, 1, 1, 1, 1, 1, 1, 1, 1, 1, 1, 1, 1, 1, 1, 1, 1, 1, 1, 1, 1, 1, 1, 1, 1, 1, 1, 1, 1, 1, 1, 1, 1, 1, 1, 1, 1, 1, 1, 1, 1, 1, 1, 1, 1, 1, 1, 1, 1, 1, 1]\n",
            "100\n"
          ]
        }
      ]
    },
    {
      "cell_type": "code",
      "source": [
        "a=[1,2,3]\n",
        "b=[2,1,0]\n",
        "print(a+b)"
      ],
      "metadata": {
        "colab": {
          "base_uri": "https://localhost:8080/"
        },
        "id": "SVJ8qANUWqCw",
        "outputId": "60f5f3bb-07a2-4374-8c7f-46b65d52e903"
      },
      "execution_count": null,
      "outputs": [
        {
          "output_type": "stream",
          "name": "stdout",
          "text": [
            "[1, 2, 3, 2, 1, 0]\n"
          ]
        }
      ]
    },
    {
      "cell_type": "code",
      "source": [
        "print(3*a + 2*b)"
      ],
      "metadata": {
        "colab": {
          "base_uri": "https://localhost:8080/"
        },
        "id": "Abi5UmcfWzmr",
        "outputId": "943c5771-25d5-4617-f7dc-7c4f0662482e"
      },
      "execution_count": null,
      "outputs": [
        {
          "output_type": "stream",
          "name": "stdout",
          "text": [
            "[1, 2, 3, 1, 2, 3, 1, 2, 3, 2, 1, 0, 2, 1, 0]\n"
          ]
        }
      ]
    },
    {
      "cell_type": "code",
      "source": [
        "#Boş liste davranışı\n",
        "a=[]*100\n",
        "print(a)\n",
        "b=[3,2,1]\n",
        "print(b+a)"
      ],
      "metadata": {
        "colab": {
          "base_uri": "https://localhost:8080/"
        },
        "id": "_uWxmU9JW5HD",
        "outputId": "6f49b67a-6aff-4c29-df28-1cd284552bfc"
      },
      "execution_count": null,
      "outputs": [
        {
          "output_type": "stream",
          "name": "stdout",
          "text": [
            "[]\n",
            "[3, 2, 1]\n"
          ]
        }
      ]
    },
    {
      "cell_type": "code",
      "source": [
        "len(a)"
      ],
      "metadata": {
        "colab": {
          "base_uri": "https://localhost:8080/"
        },
        "id": "n56ujefNXKSU",
        "outputId": "0eeb51a9-72f9-4e24-8389-cab91107a698"
      },
      "execution_count": null,
      "outputs": [
        {
          "output_type": "execute_result",
          "data": {
            "text/plain": [
              "0"
            ]
          },
          "metadata": {},
          "execution_count": 59
        }
      ]
    },
    {
      "cell_type": "code",
      "source": [
        "a=[1,3]\n",
        "a+=[5,7]\n",
        "print(a)\n",
        "a *=2\n",
        "print(a)"
      ],
      "metadata": {
        "colab": {
          "base_uri": "https://localhost:8080/"
        },
        "id": "iHJ3oMQiXOez",
        "outputId": "789f9756-7c62-4410-e006-b70fcade09e7"
      },
      "execution_count": null,
      "outputs": [
        {
          "output_type": "stream",
          "name": "stdout",
          "text": [
            "[1, 3, 5, 7]\n",
            "[1, 3, 5, 7, 1, 3, 5, 7]\n"
          ]
        }
      ]
    },
    {
      "cell_type": "markdown",
      "source": [
        "##Liste kavraması"
      ],
      "metadata": {
        "id": "xVsu1EHAYKpS"
      }
    },
    {
      "cell_type": "code",
      "source": [
        "l=[x ** 2 for x in range(5)]\n",
        "print(l)"
      ],
      "metadata": {
        "colab": {
          "base_uri": "https://localhost:8080/"
        },
        "id": "MPyJhbP6YJZC",
        "outputId": "1279a628-c5ea-4de4-90c8-17b9b6f4f9d7"
      },
      "execution_count": null,
      "outputs": [
        {
          "output_type": "stream",
          "name": "stdout",
          "text": [
            "[0, 1, 4, 9, 16]\n"
          ]
        }
      ]
    },
    {
      "cell_type": "code",
      "source": [
        "l=[]\n",
        "for x in range(5):\n",
        "  l.append(x ** 2)\n",
        "print(l)"
      ],
      "metadata": {
        "colab": {
          "base_uri": "https://localhost:8080/"
        },
        "id": "18nnCdTRYYh3",
        "outputId": "7de388ef-e817-4bce-c158-8f01b34e108b"
      },
      "execution_count": null,
      "outputs": [
        {
          "output_type": "stream",
          "name": "stdout",
          "text": [
            "[0, 1, 4, 9, 16]\n"
          ]
        }
      ]
    },
    {
      "cell_type": "code",
      "source": [
        "l=[]\n",
        "a=5\n",
        "for x in range(5):\n",
        "  l.append(x * a)\n",
        "print(l)\n"
      ],
      "metadata": {
        "colab": {
          "base_uri": "https://localhost:8080/"
        },
        "id": "3bEY4M6SYj_W",
        "outputId": "17ae84e0-07be-47b6-8abf-c50a024c56c7"
      },
      "execution_count": null,
      "outputs": [
        {
          "output_type": "stream",
          "name": "stdout",
          "text": [
            "[0, 5, 10, 15, 20]\n"
          ]
        }
      ]
    },
    {
      "cell_type": "code",
      "source": [
        "l=[x *a for x in range(5)]\n",
        "print(l)"
      ],
      "metadata": {
        "colab": {
          "base_uri": "https://localhost:8080/"
        },
        "id": "hWisZ4iJY09B",
        "outputId": "4162127e-9e1c-42ec-c241-9d19dcb2b1b4"
      },
      "execution_count": null,
      "outputs": [
        {
          "output_type": "stream",
          "name": "stdout",
          "text": [
            "[0, 5, 10, 15, 20]\n"
          ]
        }
      ]
    },
    {
      "cell_type": "markdown",
      "source": [
        "##Tuple(Demet)\n",
        "\n",
        "Sabit boyutlu değiştirilemeyen koleksiyon veri yapıları"
      ],
      "metadata": {
        "id": "dxhxMFWdY8EV"
      }
    },
    {
      "cell_type": "code",
      "source": [
        "a=(1,2,3)\n",
        "print(a)\n",
        "print(type(a))"
      ],
      "metadata": {
        "colab": {
          "base_uri": "https://localhost:8080/"
        },
        "id": "jMr2Cqj0ZF2d",
        "outputId": "be3db25d-dfd4-4604-f920-7a6d3a0aab45"
      },
      "execution_count": null,
      "outputs": [
        {
          "output_type": "stream",
          "name": "stdout",
          "text": [
            "(1, 2, 3)\n",
            "<class 'tuple'>\n"
          ]
        }
      ]
    },
    {
      "cell_type": "code",
      "source": [
        "b=(1,1.1,\"asd\")\n",
        "print(b)\n",
        "print(b[1])\n",
        "print(b[1:3])"
      ],
      "metadata": {
        "colab": {
          "base_uri": "https://localhost:8080/"
        },
        "id": "9_xsdkL_ZOOt",
        "outputId": "05de6cee-b732-4ff7-f9a8-088bbe321cfa"
      },
      "execution_count": null,
      "outputs": [
        {
          "output_type": "stream",
          "name": "stdout",
          "text": [
            "(1, 1.1, 'asd')\n",
            "1.1\n",
            "(1.1, 'asd')\n"
          ]
        }
      ]
    },
    {
      "cell_type": "code",
      "source": [
        "c=list(b)\n",
        "c[1]=0\n",
        "b=tuple(c)\n",
        "print(b)"
      ],
      "metadata": {
        "colab": {
          "base_uri": "https://localhost:8080/"
        },
        "id": "hw2ZdhMnZc8B",
        "outputId": "03c7ba65-2a0e-4e3e-9242-ca09ea65f046"
      },
      "execution_count": null,
      "outputs": [
        {
          "output_type": "stream",
          "name": "stdout",
          "text": [
            "(1, 0, 'asd')\n"
          ]
        }
      ]
    },
    {
      "cell_type": "code",
      "source": [
        "b =1, 2, 3\n",
        "print(b)\n",
        "print(type(b))"
      ],
      "metadata": {
        "colab": {
          "base_uri": "https://localhost:8080/"
        },
        "id": "aj2te_4RaMKA",
        "outputId": "77d1c300-e2b4-444b-e6d3-285779eb44d2"
      },
      "execution_count": null,
      "outputs": [
        {
          "output_type": "stream",
          "name": "stdout",
          "text": [
            "(1, 2, 3)\n",
            "<class 'tuple'>\n"
          ]
        }
      ]
    },
    {
      "cell_type": "code",
      "source": [
        "x,y,z = b\n",
        "print(x,y,z)"
      ],
      "metadata": {
        "colab": {
          "base_uri": "https://localhost:8080/"
        },
        "id": "nZr_xCvNaTB4",
        "outputId": "5ca27df5-3aff-46f2-8f6f-71788fc273f8"
      },
      "execution_count": null,
      "outputs": [
        {
          "output_type": "stream",
          "name": "stdout",
          "text": [
            "1 2 3\n"
          ]
        }
      ]
    },
    {
      "cell_type": "code",
      "source": [
        "b=[1,3,5]\n",
        "x, y, z =b\n",
        "print(x,y,z)"
      ],
      "metadata": {
        "colab": {
          "base_uri": "https://localhost:8080/"
        },
        "id": "knMB9fcvaZEx",
        "outputId": "67f1a2d2-35b5-4032-cbd4-4cf4ae26d581"
      },
      "execution_count": null,
      "outputs": [
        {
          "output_type": "stream",
          "name": "stdout",
          "text": [
            "1 3 5\n"
          ]
        }
      ]
    },
    {
      "cell_type": "code",
      "source": [
        "x,y,z =range(3)\n",
        "print(x,y,z)"
      ],
      "metadata": {
        "colab": {
          "base_uri": "https://localhost:8080/"
        },
        "id": "q1CdT9aCagE4",
        "outputId": "530cecba-5095-4cff-ef39-92e404c98091"
      },
      "execution_count": null,
      "outputs": [
        {
          "output_type": "stream",
          "name": "stdout",
          "text": [
            "0 1 2\n"
          ]
        }
      ]
    },
    {
      "cell_type": "code",
      "source": [
        "x,y,z ='abc'\n",
        "print(x,y,z)"
      ],
      "metadata": {
        "colab": {
          "base_uri": "https://localhost:8080/"
        },
        "id": "gB-FgT1ramf4",
        "outputId": "8b1ecfbc-3c7e-4209-cbaa-1bac03bd4d8c"
      },
      "execution_count": null,
      "outputs": [
        {
          "output_type": "stream",
          "name": "stdout",
          "text": [
            "a b c\n"
          ]
        }
      ]
    },
    {
      "cell_type": "code",
      "source": [
        "a=1\n",
        "b=2\n",
        "\n",
        "print(a,b)\n",
        "a,b=b,a\n",
        "print(a,b)"
      ],
      "metadata": {
        "colab": {
          "base_uri": "https://localhost:8080/"
        },
        "id": "tPeno8i3awIM",
        "outputId": "9479af1c-8ab0-41ff-f456-83f826f37294"
      },
      "execution_count": null,
      "outputs": [
        {
          "output_type": "stream",
          "name": "stdout",
          "text": [
            "1 2\n",
            "2 1\n"
          ]
        }
      ]
    },
    {
      "cell_type": "markdown",
      "source": [
        "#Dictionary(Sözlük)\n"
      ],
      "metadata": {
        "id": "AE6E2-ZAa-NX"
      }
    },
    {
      "cell_type": "code",
      "source": [
        "a={\"elma\": \"meyve\",\"salatalık\": \"sebze\",\"maymun\":\"memeli\"}\n",
        "print(a)"
      ],
      "metadata": {
        "colab": {
          "base_uri": "https://localhost:8080/"
        },
        "id": "2BI2qYLGbCyn",
        "outputId": "a2525750-9cb5-4779-c7cd-a5a009cac63a"
      },
      "execution_count": null,
      "outputs": [
        {
          "output_type": "stream",
          "name": "stdout",
          "text": [
            "{'elma': 'meyve', 'salatalık': 'sebze', 'maymun': 'memeli'}\n"
          ]
        }
      ]
    },
    {
      "cell_type": "code",
      "source": [
        "print(a[\"elma\"])"
      ],
      "metadata": {
        "colab": {
          "base_uri": "https://localhost:8080/"
        },
        "id": "25nLtFDwb0a2",
        "outputId": "0972f927-0962-4cb7-ad64-71e7e40b7548"
      },
      "execution_count": null,
      "outputs": [
        {
          "output_type": "stream",
          "name": "stdout",
          "text": [
            "meyve\n"
          ]
        }
      ]
    },
    {
      "cell_type": "code",
      "source": [
        "print(a[\"salatalık\"])"
      ],
      "metadata": {
        "colab": {
          "base_uri": "https://localhost:8080/"
        },
        "id": "Q9J-eef2cEM-",
        "outputId": "ff61a272-0289-4681-fd8e-716f4f58d106"
      },
      "execution_count": null,
      "outputs": [
        {
          "output_type": "stream",
          "name": "stdout",
          "text": [
            "sebze\n"
          ]
        }
      ]
    },
    {
      "cell_type": "code",
      "source": [
        "print(a[\"armut\"])"
      ],
      "metadata": {
        "colab": {
          "base_uri": "https://localhost:8080/",
          "height": 141
        },
        "id": "UTH_EreKdI4J",
        "outputId": "4e336ae5-487f-4c23-8a8d-adb5f8fba925"
      },
      "execution_count": null,
      "outputs": [
        {
          "output_type": "error",
          "ename": "TypeError",
          "evalue": "'int' object is not subscriptable",
          "traceback": [
            "\u001b[0;31m---------------------------------------------------------------------------\u001b[0m",
            "\u001b[0;31mTypeError\u001b[0m                                 Traceback (most recent call last)",
            "\u001b[0;32m<ipython-input-93-679f50a3c95c>\u001b[0m in \u001b[0;36m<cell line: 0>\u001b[0;34m()\u001b[0m\n\u001b[0;32m----> 1\u001b[0;31m \u001b[0mprint\u001b[0m\u001b[0;34m(\u001b[0m\u001b[0ma\u001b[0m\u001b[0;34m[\u001b[0m\u001b[0;34m\"armut\"\u001b[0m\u001b[0;34m]\u001b[0m\u001b[0;34m)\u001b[0m\u001b[0;34m\u001b[0m\u001b[0;34m\u001b[0m\u001b[0m\n\u001b[0m",
            "\u001b[0;31mTypeError\u001b[0m: 'int' object is not subscriptable"
          ]
        }
      ]
    },
    {
      "cell_type": "code",
      "source": [
        "d={(1,2): 'tuple'}\n",
        "print(d)"
      ],
      "metadata": {
        "colab": {
          "base_uri": "https://localhost:8080/"
        },
        "id": "G6s8LwTTdu66",
        "outputId": "4f81c976-a84c-43c6-a22a-46d4797e6d91"
      },
      "execution_count": null,
      "outputs": [
        {
          "output_type": "stream",
          "name": "stdout",
          "text": [
            "{(1, 2): 'tuple'}\n"
          ]
        }
      ]
    },
    {
      "cell_type": "code",
      "source": [
        "e={[1,2]:'list'}\n",
        "print(e)"
      ],
      "metadata": {
        "colab": {
          "base_uri": "https://localhost:8080/",
          "height": 158
        },
        "id": "ZDmARAksd8Eg",
        "outputId": "1692bf91-31e4-4f31-f170-2ab67968a344"
      },
      "execution_count": null,
      "outputs": [
        {
          "output_type": "error",
          "ename": "TypeError",
          "evalue": "unhashable type: 'list'",
          "traceback": [
            "\u001b[0;31m---------------------------------------------------------------------------\u001b[0m",
            "\u001b[0;31mTypeError\u001b[0m                                 Traceback (most recent call last)",
            "\u001b[0;32m<ipython-input-99-d9e61b6535ce>\u001b[0m in \u001b[0;36m<cell line: 0>\u001b[0;34m()\u001b[0m\n\u001b[0;32m----> 1\u001b[0;31m \u001b[0me\u001b[0m\u001b[0;34m=\u001b[0m\u001b[0;34m{\u001b[0m\u001b[0;34m[\u001b[0m\u001b[0;36m1\u001b[0m\u001b[0;34m,\u001b[0m\u001b[0;36m2\u001b[0m\u001b[0;34m]\u001b[0m\u001b[0;34m:\u001b[0m\u001b[0;34m'list'\u001b[0m\u001b[0;34m}\u001b[0m\u001b[0;34m\u001b[0m\u001b[0;34m\u001b[0m\u001b[0m\n\u001b[0m\u001b[1;32m      2\u001b[0m \u001b[0mprint\u001b[0m\u001b[0;34m(\u001b[0m\u001b[0me\u001b[0m\u001b[0;34m)\u001b[0m\u001b[0;34m\u001b[0m\u001b[0;34m\u001b[0m\u001b[0m\n",
            "\u001b[0;31mTypeError\u001b[0m: unhashable type: 'list'"
          ]
        }
      ]
    },
    {
      "cell_type": "markdown",
      "source": [
        "#Kuşullu Önermeler"
      ],
      "metadata": {
        "id": "9km6yWwAeiTB"
      }
    },
    {
      "cell_type": "code",
      "source": [
        "def kosulTesti(x):\n",
        "  if x>5:\n",
        "    print('x beşten büyük:',x)\n",
        "  elif (x>0):\n",
        "    print('x pozitif: ', x)\n",
        "    if x >3:\n",
        "      print('x üç ile beş arasında:',x)\n",
        "    elif x>2.9:\n",
        "      print('x üçe yakın')\n",
        "    else:\n",
        "      print('x üç ile sıfır arasında: ',x)\n",
        "  elif x==0:\n",
        "    print('x sıfır: ',x)\n",
        "  else:\n",
        "    print('x negatif: ', x)\n",
        "  print('tmp')\n",
        "kosulTesti(6)\n",
        "kosulTesti(4)\n",
        "kosulTesti(1)\n",
        "kosulTesti(0)\n",
        "kosulTesti(-1)\n",
        "kosulTesti(2.95)"
      ],
      "metadata": {
        "colab": {
          "base_uri": "https://localhost:8080/"
        },
        "id": "zMewDKWmehfL",
        "outputId": "de462a03-e86b-4436-df8e-4f1639f1f47e"
      },
      "execution_count": null,
      "outputs": [
        {
          "output_type": "stream",
          "name": "stdout",
          "text": [
            "x beşten büyük: 6\n",
            "tmp\n",
            "x pozitif:  4\n",
            "x üç ile beş arasında: 4\n",
            "tmp\n",
            "x pozitif:  1\n",
            "x üç ile sıfır arasında:  1\n",
            "tmp\n",
            "x sıfır:  0\n",
            "tmp\n",
            "x negatif:  -1\n",
            "tmp\n",
            "x pozitif:  2.95\n",
            "x üçe yakın\n",
            "tmp\n"
          ]
        }
      ]
    },
    {
      "cell_type": "markdown",
      "source": [
        "##While döngüsü"
      ],
      "metadata": {
        "id": "ucCAD2bbf4bh"
      }
    },
    {
      "cell_type": "code",
      "source": [
        "x=0\n",
        "while x < 3:\n",
        "  x += 1 # x=x+1, x++\n",
        "  print('Merhaba')\n",
        "print('İyi günler')"
      ],
      "metadata": {
        "colab": {
          "base_uri": "https://localhost:8080/"
        },
        "id": "06NXPfKzf7gC",
        "outputId": "fae92d27-9428-4a4b-99cd-c89273480fb7"
      },
      "execution_count": null,
      "outputs": [
        {
          "output_type": "stream",
          "name": "stdout",
          "text": [
            "Merhaba\n",
            "Merhaba\n",
            "Merhaba\n",
            "İyi günler\n"
          ]
        }
      ]
    },
    {
      "cell_type": "code",
      "source": [
        "x=0\n",
        "while x < 3:\n",
        "  x += 0.8\n",
        "  print('Merhaba')\n",
        "print('İyi günler')"
      ],
      "metadata": {
        "colab": {
          "base_uri": "https://localhost:8080/"
        },
        "id": "yd7VTrUUgRjk",
        "outputId": "06829536-a58a-496d-bcd0-882687148295"
      },
      "execution_count": null,
      "outputs": [
        {
          "output_type": "stream",
          "name": "stdout",
          "text": [
            "Merhaba\n",
            "Merhaba\n",
            "Merhaba\n",
            "Merhaba\n",
            "İyi günler\n"
          ]
        }
      ]
    },
    {
      "cell_type": "markdown",
      "source": [
        "#For döngüsü"
      ],
      "metadata": {
        "id": "JhqEWhn1gYk6"
      }
    },
    {
      "cell_type": "code",
      "source": [
        "for i in [1,2,3,4]:\n",
        "  print(i)"
      ],
      "metadata": {
        "colab": {
          "base_uri": "https://localhost:8080/"
        },
        "id": "r4-ghyrhgbNm",
        "outputId": "6a164a3f-5c57-4bdc-d408-2a4a6ffcca9c"
      },
      "execution_count": null,
      "outputs": [
        {
          "output_type": "stream",
          "name": "stdout",
          "text": [
            "1\n",
            "2\n",
            "3\n",
            "4\n"
          ]
        }
      ]
    },
    {
      "cell_type": "code",
      "source": [
        "for i in range(4):\n",
        "    print(4,i)"
      ],
      "metadata": {
        "colab": {
          "base_uri": "https://localhost:8080/"
        },
        "id": "OLvtdxXSgkMa",
        "outputId": "4f45400d-e208-487c-9791-a4e580bf009b"
      },
      "execution_count": null,
      "outputs": [
        {
          "output_type": "stream",
          "name": "stdout",
          "text": [
            "4 0\n",
            "4 1\n",
            "4 2\n",
            "4 3\n"
          ]
        }
      ]
    },
    {
      "cell_type": "code",
      "source": [
        "a=[3,5,7,9,-1]\n",
        "\n",
        "for i in range(len(a)):\n",
        "  print(a[i])"
      ],
      "metadata": {
        "colab": {
          "base_uri": "https://localhost:8080/"
        },
        "id": "znVNJEpNgvpZ",
        "outputId": "a1d1f1d8-5cf2-46f2-fc70-93a9c6f6f7b6"
      },
      "execution_count": null,
      "outputs": [
        {
          "output_type": "stream",
          "name": "stdout",
          "text": [
            "3\n",
            "5\n",
            "7\n",
            "9\n",
            "-1\n"
          ]
        }
      ]
    },
    {
      "cell_type": "code",
      "source": [
        "for i in range(3,13,2):\n",
        "    print(i)\n",
        "for i in range(3,12,2):\n",
        "    print(i)"
      ],
      "metadata": {
        "colab": {
          "base_uri": "https://localhost:8080/"
        },
        "id": "kOU3jSEhg6ml",
        "outputId": "bbc1e897-5ea0-429e-8548-95948be5a4a1"
      },
      "execution_count": null,
      "outputs": [
        {
          "output_type": "stream",
          "name": "stdout",
          "text": [
            "3\n",
            "5\n",
            "7\n",
            "9\n",
            "11\n",
            "3\n",
            "5\n",
            "7\n",
            "9\n",
            "11\n"
          ]
        }
      ]
    },
    {
      "cell_type": "code",
      "source": [
        "for i in range(13,3,-2):\n",
        "    print(i,end=' ')"
      ],
      "metadata": {
        "colab": {
          "base_uri": "https://localhost:8080/"
        },
        "id": "th27OZ4nhLdl",
        "outputId": "da48007d-9bef-4d1e-db0e-2780ab31cde2"
      },
      "execution_count": null,
      "outputs": [
        {
          "output_type": "stream",
          "name": "stdout",
          "text": [
            "13 11 9 7 5 "
          ]
        }
      ]
    },
    {
      "cell_type": "code",
      "source": [
        "#for(i=0;i<n;i++)=> for i in range(n)\n",
        "#for(i=s;i<e;i++)=> for i in range(s,e)"
      ],
      "metadata": {
        "id": "I5y7LBgihgbp"
      },
      "execution_count": null,
      "outputs": []
    },
    {
      "cell_type": "markdown",
      "source": [
        "Pyhtonda for döngüsü aslında foreach döngüsüdür. Foreach döngülerinde iterable nesneler üzerinde iteration yapılır."
      ],
      "metadata": {
        "id": "74W09-zih2W4"
      }
    },
    {
      "cell_type": "code",
      "source": [
        "urunler =['elma','armut','domates','salatalık']\n",
        "\n",
        "for urun in urunler:\n",
        "  print(urun,end=' ')"
      ],
      "metadata": {
        "colab": {
          "base_uri": "https://localhost:8080/"
        },
        "id": "84Tsl26ViCPr",
        "outputId": "9a4a8285-570a-4ca0-97e6-c4e1234b9f03"
      },
      "execution_count": null,
      "outputs": [
        {
          "output_type": "stream",
          "name": "stdout",
          "text": [
            "elma armut domates salatalık "
          ]
        }
      ]
    },
    {
      "cell_type": "markdown",
      "source": [
        "Endeksler gerekliyse"
      ],
      "metadata": {
        "id": "owg5rP-xiOlT"
      }
    },
    {
      "cell_type": "code",
      "source": [
        "#1.yol\n",
        "for i in range(len(urunler)):\n",
        "    print(i,urunler[i])"
      ],
      "metadata": {
        "colab": {
          "base_uri": "https://localhost:8080/"
        },
        "id": "_Ky7aKo6iRYH",
        "outputId": "431dbd64-279b-4687-9b7a-008d4dc2c5ad"
      },
      "execution_count": null,
      "outputs": [
        {
          "output_type": "stream",
          "name": "stdout",
          "text": [
            "0 elma\n",
            "1 armut\n",
            "2 domates\n",
            "3 salatalık\n"
          ]
        }
      ]
    },
    {
      "cell_type": "code",
      "source": [
        "#Pyhtonic olan 2.yol\n",
        "for i,urun in enumerate(urunler):\n",
        "  print(i,urun)"
      ],
      "metadata": {
        "colab": {
          "base_uri": "https://localhost:8080/"
        },
        "id": "_cFRCLC8ieDH",
        "outputId": "f6f1f344-8942-4fe5-9102-9ed5ff2ff8f7"
      },
      "execution_count": null,
      "outputs": [
        {
          "output_type": "stream",
          "name": "stdout",
          "text": [
            "0 elma\n",
            "1 armut\n",
            "2 domates\n",
            "3 salatalık\n"
          ]
        }
      ]
    },
    {
      "cell_type": "code",
      "source": [
        "#enumerate iterable bir nesne yaratıyor ve her iterasyonda bir tuple döndürüyor\n",
        "a=enumerate(urunler)\n",
        "print(type(a))\n",
        "\n",
        "for urun in a:\n",
        "  print(urun)"
      ],
      "metadata": {
        "colab": {
          "base_uri": "https://localhost:8080/"
        },
        "id": "W0m5aF5gi1nw",
        "outputId": "4564ffb8-9df0-4c17-c8bd-e59c118e0c37"
      },
      "execution_count": null,
      "outputs": [
        {
          "output_type": "stream",
          "name": "stdout",
          "text": [
            "<class 'enumerate'>\n",
            "(0, 'elma')\n",
            "(1, 'armut')\n",
            "(2, 'domates')\n",
            "(3, 'salatalık')\n"
          ]
        }
      ]
    },
    {
      "cell_type": "markdown",
      "source": [
        "Dictionary ile örnekler:"
      ],
      "metadata": {
        "id": "W1wUUIQjjK2L"
      }
    },
    {
      "cell_type": "code",
      "source": [
        "a={\"elma\":\"meyve\", \"salatalık\":\"sebze\", \"maymun\":\"memeli\"}\n",
        "\n",
        "for key in a.keys():\n",
        "    print(key,a[key])\n",
        "\n",
        "print()\n",
        "for val in a.values():\n",
        "    print(val)\n",
        "\n",
        "print()\n",
        "for key, value in a.items():\n",
        "    print(key,value)"
      ],
      "metadata": {
        "colab": {
          "base_uri": "https://localhost:8080/"
        },
        "id": "u9xhW5l0jN2b",
        "outputId": "d6b2dfbb-b99d-46eb-9153-d1bbe9086a9e"
      },
      "execution_count": null,
      "outputs": [
        {
          "output_type": "stream",
          "name": "stdout",
          "text": [
            "elma meyve\n",
            "salatalık sebze\n",
            "maymun memeli\n",
            "\n",
            "meyve\n",
            "sebze\n",
            "memeli\n",
            "\n",
            "elma meyve\n",
            "salatalık sebze\n",
            "maymun memeli\n"
          ]
        }
      ]
    }
  ]
}