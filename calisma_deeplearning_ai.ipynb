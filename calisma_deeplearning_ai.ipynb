{
  "nbformat": 4,
  "nbformat_minor": 0,
  "metadata": {
    "colab": {
      "provenance": []
    },
    "kernelspec": {
      "name": "python3",
      "display_name": "Python 3"
    },
    "language_info": {
      "name": "python"
    }
  },
  "cells": [
    {
      "cell_type": "markdown",
      "source": [
        "**Python for Beginners**"
      ],
      "metadata": {
        "id": "-00mOOIErJgZ"
      }
    },
    {
      "cell_type": "code",
      "execution_count": null,
      "metadata": {
        "colab": {
          "base_uri": "https://localhost:8080/"
        },
        "id": "IKO_aC16pI7z",
        "outputId": "4bb656e4-fd6a-43ae-f012-8486fa391c08"
      },
      "outputs": [
        {
          "output_type": "stream",
          "name": "stdout",
          "text": [
            "Merhaba, AI Python for Beginners: Basics of AI Python Coding\n"
          ]
        }
      ],
      "source": [
        "print(\"Merhaba, AI Python for Beginners: Basics of AI Python Coding\")"
      ]
    },
    {
      "cell_type": "code",
      "source": [
        "import sys\n",
        "print(sys.version)"
      ],
      "metadata": {
        "colab": {
          "base_uri": "https://localhost:8080/"
        },
        "id": "sY2xP8ucpTE-",
        "outputId": "9a035378-2f39-49f4-bb54-3be9f769d5c1"
      },
      "execution_count": null,
      "outputs": [
        {
          "output_type": "stream",
          "name": "stdout",
          "text": [
            "3.11.11 (main, Dec  4 2024, 08:55:07) [GCC 11.4.0]\n"
          ]
        }
      ]
    },
    {
      "cell_type": "code",
      "source": [
        "from google.colab import drive\n",
        "drive.mount('/content/drive')"
      ],
      "metadata": {
        "colab": {
          "base_uri": "https://localhost:8080/"
        },
        "id": "AAiVOgONpW1H",
        "outputId": "3325c03e-f135-4cc2-f3c5-865ed98fe66e"
      },
      "execution_count": null,
      "outputs": [
        {
          "output_type": "stream",
          "name": "stdout",
          "text": [
            "Mounted at /content/drive\n"
          ]
        }
      ]
    },
    {
      "cell_type": "code",
      "source": [
        "import os\n",
        "os.chdir('/content/drive/My Drive/veri_algoritmaları/veri_algoritmaları')\n",
        "!pwd"
      ],
      "metadata": {
        "colab": {
          "base_uri": "https://localhost:8080/"
        },
        "id": "BjhHscERpaYX",
        "outputId": "f3bacd82-19b6-47c6-ea06-e6ef49f8d6ed"
      },
      "execution_count": null,
      "outputs": [
        {
          "output_type": "stream",
          "name": "stdout",
          "text": [
            "/content/drive/My Drive/veri_algoritmaları/veri_algoritmaları\n"
          ]
        }
      ]
    },
    {
      "cell_type": "code",
      "source": [
        "print(\"\"\"Hello, World!\n",
        "It's great to be here!\"\"\")"
      ],
      "metadata": {
        "colab": {
          "base_uri": "https://localhost:8080/"
        },
        "id": "v3PNOapoSqNS",
        "outputId": "820ee59e-d7cc-440b-d484-05aecffa110c"
      },
      "execution_count": null,
      "outputs": [
        {
          "output_type": "stream",
          "name": "stdout",
          "text": [
            "Hello, World!\n",
            "It's great to be here!\n"
          ]
        }
      ]
    },
    {
      "cell_type": "code",
      "source": [
        "print(\"Hello, World!\n",
        "It's great to be here!\")"
      ],
      "metadata": {
        "colab": {
          "base_uri": "https://localhost:8080/",
          "height": 106
        },
        "id": "8hQoWF72TCrS",
        "outputId": "e8d4693d-1891-4cb6-b1c6-259890775b6b"
      },
      "execution_count": null,
      "outputs": [
        {
          "output_type": "error",
          "ename": "SyntaxError",
          "evalue": "unterminated string literal (detected at line 1) (<ipython-input-6-9474c240c651>, line 1)",
          "traceback": [
            "\u001b[0;36m  File \u001b[0;32m\"<ipython-input-6-9474c240c651>\"\u001b[0;36m, line \u001b[0;32m1\u001b[0m\n\u001b[0;31m    print(\"Hello, World!\u001b[0m\n\u001b[0m          ^\u001b[0m\n\u001b[0;31mSyntaxError\u001b[0m\u001b[0;31m:\u001b[0m unterminated string literal (detected at line 1)\n"
          ]
        }
      ]
    },
    {
      "cell_type": "code",
      "source": [
        "type(\"Andrew\")"
      ],
      "metadata": {
        "colab": {
          "base_uri": "https://localhost:8080/"
        },
        "id": "iZikOKSNTIzq",
        "outputId": "4a4790e5-25c7-482e-e6ff-532365482e26"
      },
      "execution_count": null,
      "outputs": [
        {
          "output_type": "execute_result",
          "data": {
            "text/plain": [
              "str"
            ]
          },
          "metadata": {},
          "execution_count": 7
        }
      ]
    },
    {
      "cell_type": "code",
      "source": [
        "type(\"2.99\")"
      ],
      "metadata": {
        "colab": {
          "base_uri": "https://localhost:8080/"
        },
        "id": "e1wA_rc5TNyr",
        "outputId": "a4e1cb80-a4b3-47a6-c044-35a3ffc464b4"
      },
      "execution_count": null,
      "outputs": [
        {
          "output_type": "execute_result",
          "data": {
            "text/plain": [
              "str"
            ]
          },
          "metadata": {},
          "execution_count": 8
        }
      ]
    },
    {
      "cell_type": "code",
      "source": [
        "type(100)"
      ],
      "metadata": {
        "colab": {
          "base_uri": "https://localhost:8080/"
        },
        "id": "UELpbPGBTQSM",
        "outputId": "7d547362-039d-497b-b6b8-ea6ae2a39c47"
      },
      "execution_count": null,
      "outputs": [
        {
          "output_type": "execute_result",
          "data": {
            "text/plain": [
              "int"
            ]
          },
          "metadata": {},
          "execution_count": 9
        }
      ]
    },
    {
      "cell_type": "code",
      "source": [
        "type(2.99)"
      ],
      "metadata": {
        "colab": {
          "base_uri": "https://localhost:8080/"
        },
        "id": "BMMWXuQjTSU3",
        "outputId": "b79d1e9f-e2e4-4c94-b28f-d96710713d7b"
      },
      "execution_count": null,
      "outputs": [
        {
          "output_type": "execute_result",
          "data": {
            "text/plain": [
              "float"
            ]
          },
          "metadata": {},
          "execution_count": 10
        }
      ]
    },
    {
      "cell_type": "code",
      "source": [
        "type(print(2+6))"
      ],
      "metadata": {
        "colab": {
          "base_uri": "https://localhost:8080/"
        },
        "id": "1v4vSDeVTcvR",
        "outputId": "94a4734a-0e62-4e9b-ca4b-df1494ce3ee0"
      },
      "execution_count": null,
      "outputs": [
        {
          "output_type": "stream",
          "name": "stdout",
          "text": [
            "8\n"
          ]
        },
        {
          "output_type": "execute_result",
          "data": {
            "text/plain": [
              "NoneType"
            ]
          },
          "metadata": {},
          "execution_count": 12
        }
      ]
    },
    {
      "cell_type": "code",
      "source": [
        "print(1.05  **  10)"
      ],
      "metadata": {
        "colab": {
          "base_uri": "https://localhost:8080/"
        },
        "id": "4g1ul82ZTmYc",
        "outputId": "16abf5ce-17c7-444e-c25e-449f014e2d5c"
      },
      "execution_count": null,
      "outputs": [
        {
          "output_type": "stream",
          "name": "stdout",
          "text": [
            "1.628894626777442\n"
          ]
        }
      ]
    },
    {
      "cell_type": "markdown",
      "source": [
        "#Celsisus to Farenheit: Temp. in C=(Temp in F-32)*5/9"
      ],
      "metadata": {
        "id": "aTASnZ5gT7Y8"
      }
    },
    {
      "cell_type": "markdown",
      "source": [
        "How do print statements work?"
      ],
      "metadata": {
        "id": "nezavi7VWxgy"
      }
    },
    {
      "cell_type": "code",
      "source": [
        "print(75 - 32  *5 /9)"
      ],
      "metadata": {
        "colab": {
          "base_uri": "https://localhost:8080/"
        },
        "id": "NgcHPJamT3YO",
        "outputId": "552baf1b-be60-423e-a282-91891a1613fc"
      },
      "execution_count": null,
      "outputs": [
        {
          "output_type": "stream",
          "name": "stdout",
          "text": [
            "57.22222222222222\n"
          ]
        }
      ]
    },
    {
      "cell_type": "code",
      "source": [
        "print((75 - 32) *5 /9)"
      ],
      "metadata": {
        "colab": {
          "base_uri": "https://localhost:8080/"
        },
        "id": "cDoVVDI1Uftt",
        "outputId": "54bae5e5-ff1c-46af-d234-ac2ea98e39f1"
      },
      "execution_count": null,
      "outputs": [
        {
          "output_type": "stream",
          "name": "stdout",
          "text": [
            "23.88888888888889\n"
          ]
        }
      ]
    },
    {
      "cell_type": "code",
      "source": [
        "print(\"The temperature 75F in degrees Celsius is ((75-32)* 5/9)C\")"
      ],
      "metadata": {
        "colab": {
          "base_uri": "https://localhost:8080/"
        },
        "id": "yZhWiM7GUn_1",
        "outputId": "3dbfc0bc-78d3-46ac-990b-4ffbe2d01e0f"
      },
      "execution_count": null,
      "outputs": [
        {
          "metadata": {
            "tags": null
          },
          "name": "stdout",
          "output_type": "stream",
          "text": [
            "The temperature 75F in degrees Celsius is ((75-32)* 5/9)C\n"
          ]
        }
      ]
    },
    {
      "cell_type": "code",
      "source": [
        "print(f\"The temperature 75F in degrees Celsius is {(75-32)* 5/9} C\")"
      ],
      "metadata": {
        "colab": {
          "base_uri": "https://localhost:8080/"
        },
        "id": "WzENwaVlVTG2",
        "outputId": "270e251b-f31d-4b65-acb8-0cb18166475c"
      },
      "execution_count": null,
      "outputs": [
        {
          "output_type": "stream",
          "name": "stdout",
          "text": [
            "The temperature 75F in degrees Celsius is 23.88888888888889 C\n"
          ]
        }
      ]
    },
    {
      "cell_type": "code",
      "source": [
        "print(\"Isabel is 20 years old\")"
      ],
      "metadata": {
        "colab": {
          "base_uri": "https://localhost:8080/"
        },
        "id": "kij8zu4YWM44",
        "outputId": "962340dc-752c-46e3-a715-eab3a0dd83b4"
      },
      "execution_count": null,
      "outputs": [
        {
          "output_type": "stream",
          "name": "stdout",
          "text": [
            "Isabel is 20 years old\n"
          ]
        }
      ]
    },
    {
      "cell_type": "markdown",
      "source": [
        "1.Tells python to display to screen.\n",
        "\n",
        "2.Checks for opening and closing parantheses.\n",
        "\n",
        "3.Sees a quotation mark, checks for match to close."
      ],
      "metadata": {
        "id": "KScQjeprXWVJ"
      }
    },
    {
      "cell_type": "code",
      "source": [
        "print(f\"Isabel is {28/7} dog years old\")"
      ],
      "metadata": {
        "colab": {
          "base_uri": "https://localhost:8080/"
        },
        "id": "ZYEf-fsAWhKO",
        "outputId": "b80700cb-e94c-4819-83e9-2ff63619874b"
      },
      "execution_count": null,
      "outputs": [
        {
          "output_type": "stream",
          "name": "stdout",
          "text": [
            "Isabel is 4.0 dog years old\n"
          ]
        }
      ]
    },
    {
      "cell_type": "markdown",
      "source": [
        "1.Tells python to display to screen.\n",
        "\n",
        "2.Checks for opening and closing parantheses.\n",
        "\n",
        "3.Sees the f character-knows this is a formatted string\n",
        "\n",
        "4.Check for opening and closing quotation marks.\n",
        "\n",
        "5.Checks for opening and closing curly braces.\n",
        "\n",
        "6.Carries out the calculation inside the curly braces.\n"
      ],
      "metadata": {
        "id": "loOsfsh-X3Uk"
      }
    },
    {
      "cell_type": "code",
      "source": [
        "print(f\"\"\"\n",
        "  Most countries use the metric system for recipe measurement,\n",
        "  but American bakers use different system. For example, they use fluid ounces to measure liquids instead of milliliters (ml).\n",
        "\n",
        "  So you need to convert recipe units to your local measuring system!\n",
        "\n",
        "  For example, 8 fluid ounces of milk is {8*29.5735}ml.\n",
        "  And 100 ml of water is {100/ 29.5735} fluid ounces.\n",
        "\"\"\")"
      ],
      "metadata": {
        "colab": {
          "base_uri": "https://localhost:8080/"
        },
        "id": "W9mQINQNYnUe",
        "outputId": "5d90a762-ef43-4885-9469-27edbf2a5cfa"
      },
      "execution_count": null,
      "outputs": [
        {
          "output_type": "stream",
          "name": "stdout",
          "text": [
            "\n",
            "  Most countries use the metric system for recipe measurement, \n",
            "  but American bakers use different system. For example, they use fluid ounces to measure liquids instead of milliliters (ml).\n",
            "\n",
            "  So you need to convert recipe units to your local measuring system!\n",
            "\n",
            "  For example, 8 fluid ounces of milk is 236.588ml.\n",
            "  And 100 ml of water is 3.381405650328842 fluid ounces.\n",
            "\n"
          ]
        }
      ]
    },
    {
      "cell_type": "code",
      "source": [
        "print(f\"\"\"\n",
        "  Most countries use the metric system for recipe measurement,\n",
        "  but American bakers use different system. For example, they use fluid ounces to measure liquids instead of milliliters (ml).\n",
        "\n",
        "  So you need to convert recipe units to your local measuring system!\n",
        "\n",
        "  For example, 8 fluid ounces of milk is {8*29.5735: .2f}ml.\n",
        "  And 100 ml of water is {100/ 29.5735: .2f} fluid ounces.\n",
        "\"\"\")"
      ],
      "metadata": {
        "colab": {
          "base_uri": "https://localhost:8080/"
        },
        "id": "-HxdNYKXabdz",
        "outputId": "ae2284d2-fc5a-4834-d77f-68789a04765e"
      },
      "execution_count": null,
      "outputs": [
        {
          "output_type": "stream",
          "name": "stdout",
          "text": [
            "\n",
            "  Most countries use the metric system for recipe measurement, \n",
            "  but American bakers use different system. For example, they use fluid ounces to measure liquids instead of milliliters (ml).\n",
            "\n",
            "  So you need to convert recipe units to your local measuring system!\n",
            "\n",
            "  For example, 8 fluid ounces of milk is  236.59ml.\n",
            "  And 100 ml of water is  3.38 fluid ounces.\n",
            "\n"
          ]
        }
      ]
    },
    {
      "cell_type": "code",
      "source": [
        "age = 28\n",
        "print(age)"
      ],
      "metadata": {
        "colab": {
          "base_uri": "https://localhost:8080/"
        },
        "id": "gsEVfN9Ja0OE",
        "outputId": "c965a912-3735-483b-994a-124ed037ddde"
      },
      "execution_count": null,
      "outputs": [
        {
          "output_type": "stream",
          "name": "stdout",
          "text": [
            "28\n"
          ]
        }
      ]
    },
    {
      "cell_type": "code",
      "source": [
        "age = 5\n",
        "\n",
        "print(age)"
      ],
      "metadata": {
        "colab": {
          "base_uri": "https://localhost:8080/"
        },
        "id": "0f_dxOVRa8jc",
        "outputId": "e4f96ea9-c562-4deb-bfbb-17edfc5d961c"
      },
      "execution_count": null,
      "outputs": [
        {
          "output_type": "stream",
          "name": "stdout",
          "text": [
            "5\n"
          ]
        }
      ]
    },
    {
      "cell_type": "code",
      "source": [
        "name = \"Otto\"\n",
        "gnome_height = 12.7"
      ],
      "metadata": {
        "id": "fd2p7y9sbQLK"
      },
      "execution_count": null,
      "outputs": []
    },
    {
      "cell_type": "code",
      "source": [
        "print(f\"Age: {age}\")"
      ],
      "metadata": {
        "colab": {
          "base_uri": "https://localhost:8080/"
        },
        "id": "JMhQyuK3bWvo",
        "outputId": "4459f69b-2d77-4569-b975-dddbf5a1a8fc"
      },
      "execution_count": null,
      "outputs": [
        {
          "output_type": "stream",
          "name": "stdout",
          "text": [
            "Age: 5\n"
          ]
        }
      ]
    },
    {
      "cell_type": "markdown",
      "source": [
        "Variables"
      ],
      "metadata": {
        "id": "U280PG6DcFoI"
      }
    },
    {
      "cell_type": "code",
      "source": [
        "print(f\"Name : {name}\")\n",
        "print(f\"Gnome height: {gnome_height}\")"
      ],
      "metadata": {
        "colab": {
          "base_uri": "https://localhost:8080/"
        },
        "id": "zLrwByACcIKp",
        "outputId": "c4c10d31-1a7f-48c5-aa18-7cae73a50a27"
      },
      "execution_count": null,
      "outputs": [
        {
          "output_type": "stream",
          "name": "stdout",
          "text": [
            "Name : Otto\n",
            "Gnome height: 12.7\n"
          ]
        }
      ]
    },
    {
      "cell_type": "markdown",
      "source": [
        "What variables are for\n",
        "\n",
        "1.Give a value a name to use later\n",
        "\n",
        "2.Use the same name to refer to changing values.\n"
      ],
      "metadata": {
        "id": "k10S65ynce8m"
      }
    },
    {
      "cell_type": "code",
      "source": [
        "score = 0 # now score is 0\n",
        "print(score)"
      ],
      "metadata": {
        "colab": {
          "base_uri": "https://localhost:8080/"
        },
        "id": "uFkj9_4Ncr_F",
        "outputId": "e74de44d-3aaa-47dc-9b85-fa0d063e4afe"
      },
      "execution_count": null,
      "outputs": [
        {
          "output_type": "stream",
          "name": "stdout",
          "text": [
            "0\n"
          ]
        }
      ]
    },
    {
      "cell_type": "code",
      "source": [
        "score = score +50 #now score is 0+50 which is 50\n",
        "print(score)"
      ],
      "metadata": {
        "colab": {
          "base_uri": "https://localhost:8080/"
        },
        "id": "qx9dkNkFc1nZ",
        "outputId": "c43bf318-93cc-43db-a2b5-b446f6f2c378"
      },
      "execution_count": null,
      "outputs": [
        {
          "output_type": "stream",
          "name": "stdout",
          "text": [
            "50\n"
          ]
        }
      ]
    },
    {
      "cell_type": "code",
      "source": [
        "score =score+100\n",
        "print(score)"
      ],
      "metadata": {
        "colab": {
          "base_uri": "https://localhost:8080/"
        },
        "id": "tjKEVOLGc_uY",
        "outputId": "b3c5a48e-6762-469b-b7ee-fdd2adb96f6c"
      },
      "execution_count": null,
      "outputs": [
        {
          "output_type": "stream",
          "name": "stdout",
          "text": [
            "150\n"
          ]
        }
      ]
    },
    {
      "cell_type": "code",
      "source": [
        "score=score+300 #now score is 150+300 which is 450\n",
        "print(score)"
      ],
      "metadata": {
        "colab": {
          "base_uri": "https://localhost:8080/"
        },
        "id": "uHIjGm1SdHGQ",
        "outputId": "d75247ff-d322-42ec-8445-fecf19fddc9b"
      },
      "execution_count": null,
      "outputs": [
        {
          "output_type": "stream",
          "name": "stdout",
          "text": [
            "750\n"
          ]
        }
      ]
    },
    {
      "cell_type": "code",
      "source": [
        "print(f\"Your final score was: {score}\") # prints 450\n"
      ],
      "metadata": {
        "colab": {
          "base_uri": "https://localhost:8080/"
        },
        "id": "9sIsb4CfdSiQ",
        "outputId": "69f3e89d-a323-4154-98e1-129920908880"
      },
      "execution_count": null,
      "outputs": [
        {
          "output_type": "stream",
          "name": "stdout",
          "text": [
            "Your final score was: 750\n"
          ]
        }
      ]
    },
    {
      "cell_type": "code",
      "source": [
        "print(49/7)"
      ],
      "metadata": {
        "colab": {
          "base_uri": "https://localhost:8080/"
        },
        "id": "m24BWlp-dkjC",
        "outputId": "55c0d7fe-7bd7-41df-e5b5-19c265ff5f47"
      },
      "execution_count": null,
      "outputs": [
        {
          "output_type": "stream",
          "name": "stdout",
          "text": [
            "7.0\n"
          ]
        }
      ]
    },
    {
      "cell_type": "code",
      "source": [
        "print(f\"Otto's age in dog years is {49/7}\")"
      ],
      "metadata": {
        "colab": {
          "base_uri": "https://localhost:8080/"
        },
        "id": "0L7tkO-ndwpt",
        "outputId": "c3ebb8f0-f828-4fa2-ddf1-98bfc5b4fbb9"
      },
      "execution_count": null,
      "outputs": [
        {
          "output_type": "stream",
          "name": "stdout",
          "text": [
            "Otto's age in dog years is 7.0\n"
          ]
        }
      ]
    },
    {
      "cell_type": "code",
      "source": [
        "print(f\"\"\"Otto's age in dog years is {49/7}. So dog that is about\n",
        "{49/7} would be the same age as Otto. Any dog born about {49/7}\n",
        "years ago would be in the same stage of life as Otto.\"\"\")"
      ],
      "metadata": {
        "colab": {
          "base_uri": "https://localhost:8080/"
        },
        "id": "tWIuhcXpd7Iv",
        "outputId": "31c278d3-172a-4d94-a9d7-81178fa47fe3"
      },
      "execution_count": null,
      "outputs": [
        {
          "output_type": "stream",
          "name": "stdout",
          "text": [
            "Otto's age in dog years is 7.0. So dog that is about \n",
            "7.0 would be the same age as Otto. Any dog born about 7.0\n",
            "years ago would be in the same stage of life as Otto.\n"
          ]
        }
      ]
    },
    {
      "cell_type": "code",
      "source": [
        "dog_age=50/7"
      ],
      "metadata": {
        "id": "UdVHHLsmfCBQ"
      },
      "execution_count": null,
      "outputs": []
    },
    {
      "cell_type": "code",
      "source": [
        "print(f\"\"\"Otto's age in dog years is {dog_age}. So dog that is about\n",
        "{dog_age} would be the same age as Otto. Any dog born about {dog_age}\n",
        "years ago would be in the same stage of life as Otto.\"\"\")"
      ],
      "metadata": {
        "colab": {
          "base_uri": "https://localhost:8080/"
        },
        "id": "P7wmh9V_em_P",
        "outputId": "71a5894e-4e06-49a8-b43d-6eea5463d1e5"
      },
      "execution_count": null,
      "outputs": [
        {
          "output_type": "stream",
          "name": "stdout",
          "text": [
            "Otto's age in dog years is 7.142857142857143. So dog that is about \n",
            "7.142857142857143 would be the same age as Otto. Any dog born about 7.142857142857143\n",
            "years ago would be in the same stage of life as Otto.\n"
          ]
        }
      ]
    },
    {
      "cell_type": "code",
      "source": [
        "name= \" Otto Matic\""
      ],
      "metadata": {
        "id": "zKOVF2zwfTEm"
      },
      "execution_count": null,
      "outputs": []
    },
    {
      "cell_type": "code",
      "source": [
        "print(len(\"Hello World!\"))"
      ],
      "metadata": {
        "colab": {
          "base_uri": "https://localhost:8080/"
        },
        "id": "EFPe4wXvjvYr",
        "outputId": "14e951ae-e781-4cf1-87a2-31bcd484d1ae"
      },
      "execution_count": null,
      "outputs": [
        {
          "output_type": "stream",
          "name": "stdout",
          "text": [
            "12\n"
          ]
        }
      ]
    },
    {
      "cell_type": "markdown",
      "source": [
        "print(f\"\"\"{name}'s age in dog years is {dog_age}. So dog that is about\n",
        "{dog_age} would be the same age as{name}. Any dog born about {dog_age}\n",
        "years ago would be in the same stage of life as {Otto}.\"\"\")"
      ],
      "metadata": {
        "id": "q_qUJt06fXES"
      }
    },
    {
      "cell_type": "code",
      "source": [
        "round=42.17\n",
        "print(round)"
      ],
      "metadata": {
        "colab": {
          "base_uri": "https://localhost:8080/"
        },
        "id": "xBWdWS-_kFp4",
        "outputId": "30291bc1-165d-4331-8ca6-5f576c5a1d7f"
      },
      "execution_count": null,
      "outputs": [
        {
          "output_type": "stream",
          "name": "stdout",
          "text": [
            "42.17\n"
          ]
        }
      ]
    },
    {
      "cell_type": "code",
      "source": [
        "string_length=len(\"Hello World!\")\n",
        "print(string_length)"
      ],
      "metadata": {
        "colab": {
          "base_uri": "https://localhost:8080/"
        },
        "id": "6BJVPK9vkUJx",
        "outputId": "36da7e4b-f459-4f50-e8c2-0d9d0a03df47"
      },
      "execution_count": null,
      "outputs": [
        {
          "output_type": "stream",
          "name": "stdout",
          "text": [
            "12\n"
          ]
        }
      ]
    }
  ]
}