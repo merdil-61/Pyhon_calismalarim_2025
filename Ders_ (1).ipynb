{
  "nbformat": 4,
  "nbformat_minor": 0,
  "metadata": {
    "colab": {
      "provenance": []
    },
    "kernelspec": {
      "name": "python3",
      "display_name": "Python 3"
    },
    "language_info": {
      "name": "python"
    }
  },
  "cells": [
    {
      "cell_type": "markdown",
      "source": [
        "**Python for Beginners**"
      ],
      "metadata": {
        "id": "-00mOOIErJgZ"
      }
    },
    {
      "cell_type": "code",
      "execution_count": null,
      "metadata": {
        "colab": {
          "base_uri": "https://localhost:8080/"
        },
        "id": "IKO_aC16pI7z",
        "outputId": "ba040e7e-91c8-411c-9e58-bbbe83685f7e"
      },
      "outputs": [
        {
          "output_type": "stream",
          "name": "stdout",
          "text": [
            "Merhaba, Alison-Python for Beginners\n"
          ]
        }
      ],
      "source": [
        "print(\"Merhaba, Alison-Python for Beginners\")"
      ]
    },
    {
      "cell_type": "code",
      "source": [
        "import sys\n",
        "print(sys.version)"
      ],
      "metadata": {
        "colab": {
          "base_uri": "https://localhost:8080/"
        },
        "id": "sY2xP8ucpTE-",
        "outputId": "28dd5754-d24a-4e49-c967-774c312bdaba"
      },
      "execution_count": null,
      "outputs": [
        {
          "output_type": "stream",
          "name": "stdout",
          "text": [
            "3.11.11 (main, Dec  4 2024, 08:55:07) [GCC 11.4.0]\n"
          ]
        }
      ]
    },
    {
      "cell_type": "code",
      "source": [
        "from google.colab import drive\n",
        "drive.mount('/content/drive')"
      ],
      "metadata": {
        "colab": {
          "base_uri": "https://localhost:8080/"
        },
        "id": "AAiVOgONpW1H",
        "outputId": "98374a64-4374-48de-a535-b8320cb27928"
      },
      "execution_count": null,
      "outputs": [
        {
          "output_type": "stream",
          "name": "stdout",
          "text": [
            "Mounted at /content/drive\n"
          ]
        }
      ]
    },
    {
      "cell_type": "code",
      "source": [
        "import os\n",
        "os.chdir('/content/drive/My Drive/veri_algoritmaları/veri_algoritmaları')\n",
        "!pwd"
      ],
      "metadata": {
        "colab": {
          "base_uri": "https://localhost:8080/"
        },
        "id": "BjhHscERpaYX",
        "outputId": "8efa83dc-502a-4b7e-ccd1-82f71f0e278f"
      },
      "execution_count": null,
      "outputs": [
        {
          "output_type": "stream",
          "name": "stdout",
          "text": [
            "/content/drive/My Drive/veri_algoritmaları/veri_algoritmaları\n"
          ]
        }
      ]
    },
    {
      "cell_type": "markdown",
      "source": [
        "Variable scope"
      ],
      "metadata": {
        "id": "1VWSITjssSbh"
      }
    },
    {
      "cell_type": "code",
      "source": [
        "x = 10\n",
        "def function():\n",
        "  #global x\n",
        "  x = 20\n",
        "\n",
        "function()\n",
        "print(x)\n"
      ],
      "metadata": {
        "colab": {
          "base_uri": "https://localhost:8080/"
        },
        "id": "2lTqurEdrw55",
        "outputId": "e7f8d9e9-da75-45d7-8941-6fefc8403b0b"
      },
      "execution_count": null,
      "outputs": [
        {
          "output_type": "stream",
          "name": "stdout",
          "text": [
            "10\n"
          ]
        }
      ]
    },
    {
      "cell_type": "markdown",
      "source": [
        "Returning Data"
      ],
      "metadata": {
        "id": "aS0u5bGMscRF"
      }
    },
    {
      "cell_type": "code",
      "source": [
        "def reverse(string):\n",
        " return string[::-1]\n",
        "\n",
        "reversedString= reverse('hello')\n",
        "print('data', reversedString)"
      ],
      "metadata": {
        "colab": {
          "base_uri": "https://localhost:8080/"
        },
        "id": "JCP9aPX-sWXM",
        "outputId": "c1fa077e-db72-4a0a-a664-929c0c90f73b"
      },
      "execution_count": null,
      "outputs": [
        {
          "output_type": "stream",
          "name": "stdout",
          "text": [
            "data olleh\n"
          ]
        }
      ]
    },
    {
      "cell_type": "markdown",
      "source": [
        "Recursion"
      ],
      "metadata": {
        "id": "Y336KQXstY1h"
      }
    },
    {
      "cell_type": "code",
      "source": [
        "def iteratveFactorial(n):\n",
        "  result=1\n",
        "  for i in range(n, 0, -1):\n",
        "    result =result * i\n",
        "  return result"
      ],
      "metadata": {
        "id": "JOs1zHmnta9s"
      },
      "execution_count": null,
      "outputs": []
    },
    {
      "cell_type": "code",
      "source": [
        "def factorial(n):\n",
        "  if n == 0:\n",
        "    return 1\n",
        "  else:\n",
        "    return n* factorial(n-1)\n",
        "\n",
        "print(factorial(5))"
      ],
      "metadata": {
        "colab": {
          "base_uri": "https://localhost:8080/"
        },
        "id": "fjDqAXIXuE86",
        "outputId": "fddfe728-8fc4-424f-e800-9a5eea9ed7d1"
      },
      "execution_count": null,
      "outputs": [
        {
          "output_type": "stream",
          "name": "stdout",
          "text": [
            "120\n"
          ]
        }
      ]
    },
    {
      "cell_type": "markdown",
      "source": [
        "Tuples"
      ],
      "metadata": {
        "id": "6hBE_Fkdu1ur"
      }
    },
    {
      "cell_type": "code",
      "source": [
        "tuple1 = (12, 13, 14, 15)\n",
        "print(tuple1)"
      ],
      "metadata": {
        "colab": {
          "base_uri": "https://localhost:8080/"
        },
        "id": "jku6lx-Hu3Ce",
        "outputId": "cf17d2c9-f87f-4bdb-80b4-54a2c10a2e5f"
      },
      "execution_count": null,
      "outputs": [
        {
          "output_type": "stream",
          "name": "stdout",
          "text": [
            "(12, 13, 14, 15)\n"
          ]
        }
      ]
    },
    {
      "cell_type": "code",
      "source": [
        "tuple2 = (12, 13, 14, 15)\n",
        "print(tuple[2])"
      ],
      "metadata": {
        "colab": {
          "base_uri": "https://localhost:8080/"
        },
        "id": "QDeDSv1mvTUC",
        "outputId": "ecad863c-b20d-42c5-d702-0792433cac66"
      },
      "execution_count": null,
      "outputs": [
        {
          "output_type": "stream",
          "name": "stdout",
          "text": [
            "tuple[2]\n"
          ]
        }
      ]
    },
    {
      "cell_type": "code",
      "source": [
        "list1=[1,2,3,4]\n",
        "tuple3 = tuple(list1)\n",
        "print(tuple3)"
      ],
      "metadata": {
        "colab": {
          "base_uri": "https://localhost:8080/"
        },
        "id": "HURV7iTbveBT",
        "outputId": "b083fb66-d5da-4e0f-ca7d-c0998a34bf78"
      },
      "execution_count": null,
      "outputs": [
        {
          "output_type": "stream",
          "name": "stdout",
          "text": [
            "(1, 2, 3, 4)\n"
          ]
        }
      ]
    },
    {
      "cell_type": "code",
      "source": [
        "tup1 = (1, 2, 3, 5)\n",
        "l1 =list(tup1)\n",
        "l1[3] = 4\n",
        "tup1 =tuple(l1)\n",
        "print(tup1)"
      ],
      "metadata": {
        "colab": {
          "base_uri": "https://localhost:8080/"
        },
        "id": "4qRgdzEmvrtC",
        "outputId": "25cc376d-e4a1-406b-d58b-d1fa4dfbf8a0"
      },
      "execution_count": null,
      "outputs": [
        {
          "output_type": "stream",
          "name": "stdout",
          "text": [
            "(1, 2, 3, 4)\n"
          ]
        }
      ]
    },
    {
      "cell_type": "markdown",
      "source": [
        "Dictionaries"
      ],
      "metadata": {
        "id": "RVvrgHJlv8Ab"
      }
    },
    {
      "cell_type": "code",
      "source": [
        "employee = {\n",
        "    'name' : 'John Smith',\n",
        "    'age' : 39,\n",
        "    'Salary' : '$10,000',\n",
        "    'Designation' : 'Manager'\n",
        " }\n",
        "for i in employee.values():\n",
        "  print (i)"
      ],
      "metadata": {
        "colab": {
          "base_uri": "https://localhost:8080/"
        },
        "id": "dHWMOPbYv9eX",
        "outputId": "c4cd9cfa-c596-40b2-db6a-aabae8af6c2f"
      },
      "execution_count": null,
      "outputs": [
        {
          "output_type": "stream",
          "name": "stdout",
          "text": [
            "John Smith\n",
            "39\n",
            "$10,000\n",
            "Manager\n"
          ]
        }
      ]
    },
    {
      "cell_type": "code",
      "source": [
        "employee = {\n",
        "    'name' : 'John Smith',\n",
        "    'age' : 39,\n",
        "    'Salary' : '$10,000',\n",
        "    'Designation' : 'Manager'\n",
        " }\n",
        "for key in employee:\n",
        "  print (key + \":\"+str(employee[key]))"
      ],
      "metadata": {
        "colab": {
          "base_uri": "https://localhost:8080/"
        },
        "id": "VyraKsVVxoWE",
        "outputId": "7fec7187-2e7b-40be-ff49-2cdfe669bd10"
      },
      "execution_count": null,
      "outputs": [
        {
          "output_type": "stream",
          "name": "stdout",
          "text": [
            "name:John Smith\n",
            "age:39\n",
            "Salary:$10,000\n",
            "Designation:Manager\n"
          ]
        }
      ]
    },
    {
      "cell_type": "markdown",
      "source": [
        "**Modules**\n",
        "A module for string operations"
      ],
      "metadata": {
        "id": "QTcu9nNjyIdi"
      }
    },
    {
      "cell_type": "code",
      "source": [
        "def reverseString(string):\n",
        "  return string[::-1]"
      ],
      "metadata": {
        "id": "Xp31MUkkyOG4"
      },
      "execution_count": null,
      "outputs": []
    }
  ]
}