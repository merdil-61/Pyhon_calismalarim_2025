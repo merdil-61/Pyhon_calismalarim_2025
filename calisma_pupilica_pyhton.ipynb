{
  "nbformat": 4,
  "nbformat_minor": 0,
  "metadata": {
    "colab": {
      "provenance": []
    },
    "kernelspec": {
      "name": "python3",
      "display_name": "Python 3"
    },
    "language_info": {
      "name": "python"
    }
  },
  "cells": [
    {
      "cell_type": "code",
      "execution_count": null,
      "metadata": {
        "colab": {
          "base_uri": "https://localhost:8080/"
        },
        "id": "IKO_aC16pI7z",
        "outputId": "6bc92aba-bcda-4b80-97b5-19e10bbc20b9"
      },
      "outputs": [
        {
          "output_type": "stream",
          "name": "stdout",
          "text": [
            "Merhaba, Pupilica- Pyhton\n"
          ]
        }
      ],
      "source": [
        "print(\"Merhaba, Pupilica- Pyhton\")"
      ]
    },
    {
      "cell_type": "code",
      "source": [
        "import sys\n",
        "print(sys.version)"
      ],
      "metadata": {
        "colab": {
          "base_uri": "https://localhost:8080/"
        },
        "id": "sY2xP8ucpTE-",
        "outputId": "71d55666-8c56-439b-8427-8992442fb84c"
      },
      "execution_count": null,
      "outputs": [
        {
          "output_type": "stream",
          "name": "stdout",
          "text": [
            "3.11.11 (main, Dec  4 2024, 08:55:07) [GCC 11.4.0]\n"
          ]
        }
      ]
    },
    {
      "cell_type": "code",
      "source": [
        "from google.colab import drive\n",
        "drive.mount('/content/drive')"
      ],
      "metadata": {
        "colab": {
          "base_uri": "https://localhost:8080/"
        },
        "id": "AAiVOgONpW1H",
        "outputId": "c9ebccf9-78fe-4455-ee70-9639729e80cf"
      },
      "execution_count": null,
      "outputs": [
        {
          "output_type": "stream",
          "name": "stdout",
          "text": [
            "Drive already mounted at /content/drive; to attempt to forcibly remount, call drive.mount(\"/content/drive\", force_remount=True).\n"
          ]
        }
      ]
    },
    {
      "cell_type": "code",
      "source": [
        "import os\n",
        "os.chdir('/content/drive/My Drive/veri_algoritmaları/veri_algoritmaları')\n",
        "!pwd"
      ],
      "metadata": {
        "colab": {
          "base_uri": "https://localhost:8080/"
        },
        "id": "BjhHscERpaYX",
        "outputId": "52a9b635-1512-4b97-a4b6-06b6cb7144d8"
      },
      "execution_count": null,
      "outputs": [
        {
          "output_type": "stream",
          "name": "stdout",
          "text": [
            "/content/drive/My Drive/veri_algoritmaları/veri_algoritmaları\n"
          ]
        }
      ]
    },
    {
      "cell_type": "code",
      "source": [
        "(5*3+2)/2.5"
      ],
      "metadata": {
        "colab": {
          "base_uri": "https://localhost:8080/"
        },
        "id": "Snvqdr1Axqi7",
        "outputId": "d8fefc1d-b291-475f-9c27-576558b7f993"
      },
      "execution_count": null,
      "outputs": [
        {
          "output_type": "execute_result",
          "data": {
            "text/plain": [
              "6.8"
            ]
          },
          "metadata": {},
          "execution_count": 10
        }
      ]
    },
    {
      "cell_type": "code",
      "source": [
        "5+2 #Bu en son ifade olmadığı için yazılmayacak\n",
        "print(\"Merhaba Dunya\") #Bu yazdırma komutu için yazdıracak\n",
        "5+2 # Bu en son ifade olduğu için yazılacak"
      ],
      "metadata": {
        "colab": {
          "base_uri": "https://localhost:8080/"
        },
        "id": "CzwyUkORyTtH",
        "outputId": "6fac1141-bcd3-4758-9bad-31b3c9f4e733"
      },
      "execution_count": null,
      "outputs": [
        {
          "output_type": "stream",
          "name": "stdout",
          "text": [
            "Merhaba Dunya\n"
          ]
        },
        {
          "output_type": "execute_result",
          "data": {
            "text/plain": [
              "7"
            ]
          },
          "metadata": {},
          "execution_count": 12
        }
      ]
    },
    {
      "cell_type": "markdown",
      "source": [
        "##Kod yorumları##\n",
        "\n",
        "....\n",
        "Çok satırlı\n",
        "bir yorum\n",
        "...\n",
        "\n",
        "\"\"\"bu da\n",
        "olur\"\"\"\n",
        "\n"
      ],
      "metadata": {
        "id": "A1SjoOVqyc88"
      }
    },
    {
      "cell_type": "code",
      "source": [
        "tmp =\"Çok satırlı bir dizgi\"\n",
        "print(tmp)"
      ],
      "metadata": {
        "colab": {
          "base_uri": "https://localhost:8080/"
        },
        "id": "-3-o9g6r1mFc",
        "outputId": "3869253a-bf8d-4dc9-8243-7d3d168dfa4a"
      },
      "execution_count": null,
      "outputs": [
        {
          "output_type": "stream",
          "name": "stdout",
          "text": [
            "Çok satırlı bir dizgi\n"
          ]
        }
      ]
    },
    {
      "cell_type": "code",
      "source": [
        "#a=5 \"\"\"bu çalışmayacak\"\"\""
      ],
      "metadata": {
        "id": "XsuqbJKy2Aso"
      },
      "execution_count": null,
      "outputs": []
    },
    {
      "cell_type": "markdown",
      "source": [
        "Girintiler"
      ],
      "metadata": {
        "id": "DIyu8J342K6N"
      }
    },
    {
      "cell_type": "code",
      "source": [
        "kosul = True # Bunu False yapıp deneyin\n",
        "deger = 0\n",
        "if kosul:\n",
        "  print(\"Tamamdır\")\n",
        "  deger = 1\n",
        "print(f\"Devam ediyoruz, en son değer{deger}\")\n"
      ],
      "metadata": {
        "colab": {
          "base_uri": "https://localhost:8080/"
        },
        "id": "ZSl4Llu12JTh",
        "outputId": "1b56fe6a-5aa8-4a32-9e69-7c7ef988ea76"
      },
      "execution_count": null,
      "outputs": [
        {
          "output_type": "stream",
          "name": "stdout",
          "text": [
            "Tamamdır\n",
            "Devam ediyoruz, en son değer1\n"
          ]
        }
      ]
    },
    {
      "cell_type": "code",
      "source": [
        "a = 1; b = 2 #; karakterini silersek hata alırız.\n",
        "print(a,b)"
      ],
      "metadata": {
        "colab": {
          "base_uri": "https://localhost:8080/"
        },
        "id": "jdZpjNA22Ttf",
        "outputId": "8b9d329f-781a-4fd5-f1e2-21cb34451ab3"
      },
      "execution_count": null,
      "outputs": [
        {
          "output_type": "stream",
          "name": "stdout",
          "text": [
            "1 2\n"
          ]
        }
      ]
    },
    {
      "cell_type": "markdown",
      "source": [
        "Pyhton temel sayı türleri:\n",
        "\n",
        "##int: Tam sayılar\n",
        "##float: Ondalıklı sayılar\n",
        "##complex: Kompleks sayılar"
      ],
      "metadata": {
        "id": "kiIRTKXM2-En"
      }
    },
    {
      "cell_type": "code",
      "source": [
        "a = 1\n",
        "print(type(a))"
      ],
      "metadata": {
        "colab": {
          "base_uri": "https://localhost:8080/"
        },
        "id": "9AxuT49H3blf",
        "outputId": "646b09ae-dbcb-4ffb-d50c-12a08d69d354"
      },
      "execution_count": null,
      "outputs": [
        {
          "output_type": "stream",
          "name": "stdout",
          "text": [
            "<class 'int'>\n"
          ]
        }
      ]
    },
    {
      "cell_type": "code",
      "source": [
        "print(type(2), type(-3))"
      ],
      "metadata": {
        "colab": {
          "base_uri": "https://localhost:8080/"
        },
        "id": "tJ0Gfnay3xqe",
        "outputId": "5821036a-cc0d-4327-b73c-9882b46e74b0"
      },
      "execution_count": null,
      "outputs": [
        {
          "output_type": "stream",
          "name": "stdout",
          "text": [
            "<class 'int'> <class 'int'>\n"
          ]
        }
      ]
    },
    {
      "cell_type": "code",
      "source": [
        "print(type(2.),type(-3.2), type(0.5))"
      ],
      "metadata": {
        "colab": {
          "base_uri": "https://localhost:8080/"
        },
        "id": "Qw1Efd5Z35nU",
        "outputId": "101d2f1c-9516-460a-8007-5a8bf51c30f8"
      },
      "execution_count": null,
      "outputs": [
        {
          "output_type": "stream",
          "name": "stdout",
          "text": [
            "<class 'float'> <class 'float'> <class 'float'>\n"
          ]
        }
      ]
    },
    {
      "cell_type": "code",
      "source": [
        "print(type(3.3-1.5j),1j**2)"
      ],
      "metadata": {
        "colab": {
          "base_uri": "https://localhost:8080/"
        },
        "id": "hwbNCobl4BZA",
        "outputId": "2499e78f-7c25-40f1-d698-5edd51854cd1"
      },
      "execution_count": null,
      "outputs": [
        {
          "output_type": "stream",
          "name": "stdout",
          "text": [
            "<class 'complex'> (-1+0j)\n"
          ]
        }
      ]
    },
    {
      "cell_type": "markdown",
      "source": [
        "Tanımlı sayı operatorleri:\n",
        "\n",
        "4 işlem : +,-,*,/\n",
        "\n",
        "Tam sayı bölmesi: //\n",
        "\n",
        "Üstel fonksiyon: **\n",
        "\n",
        "  Modülüs: %\n",
        "\n",
        "  Atama operatorleri: +="
      ],
      "metadata": {
        "id": "kv1jkUGo4QPq"
      }
    },
    {
      "cell_type": "code",
      "source": [
        "print(5+2, 5-2, 5*2, 5/2)\n",
        "print(7//2, 5**2, 5%2)"
      ],
      "metadata": {
        "colab": {
          "base_uri": "https://localhost:8080/"
        },
        "id": "nRYpI8ag4PRf",
        "outputId": "3fdf0b09-d904-45ac-9c5b-15b7d99e68f5"
      },
      "execution_count": null,
      "outputs": [
        {
          "output_type": "stream",
          "name": "stdout",
          "text": [
            "7 3 10 2.5\n",
            "3 25 1\n"
          ]
        }
      ]
    },
    {
      "cell_type": "code",
      "source": [
        "a =5 #a=5\n",
        "a+=3 #a=a+3, a=5+3=8\n",
        "a/=4 #a=8/4=2\n",
        "print(a)\n",
        "a**=2\n",
        "print(a)"
      ],
      "metadata": {
        "colab": {
          "base_uri": "https://localhost:8080/"
        },
        "id": "LQn9kuGK4s67",
        "outputId": "b27abe26-19e8-4d4d-b8ce-f8b564f2fa4e"
      },
      "execution_count": null,
      "outputs": [
        {
          "output_type": "stream",
          "name": "stdout",
          "text": [
            "2.0\n",
            "4.0\n"
          ]
        }
      ]
    },
    {
      "cell_type": "code",
      "source": [
        "a=5**2-3/4\n",
        "b= (5**2)-(3/4)\n",
        "print(a,b)"
      ],
      "metadata": {
        "colab": {
          "base_uri": "https://localhost:8080/"
        },
        "id": "nDVcSaog5OlJ",
        "outputId": "8bdbac44-32cc-4321-e258-0d0904a01f53"
      },
      "execution_count": null,
      "outputs": [
        {
          "output_type": "stream",
          "name": "stdout",
          "text": [
            "24.25 24.25\n"
          ]
        }
      ]
    },
    {
      "cell_type": "markdown",
      "source": [
        "##Boolean değerler\n",
        "\n",
        "Doğru: True\n",
        "\n",
        "Yanlış: False"
      ],
      "metadata": {
        "id": "g-TWUhbI5ZlG"
      }
    },
    {
      "cell_type": "code",
      "source": [
        "if True:\n",
        "  print('Doğru')\n",
        "else:\n",
        "  print('Yanlış')"
      ],
      "metadata": {
        "colab": {
          "base_uri": "https://localhost:8080/"
        },
        "id": "mz5MjtYB5kUd",
        "outputId": "7265ef53-f5b5-4825-aaf5-725ae67d4d96"
      },
      "execution_count": null,
      "outputs": [
        {
          "output_type": "stream",
          "name": "stdout",
          "text": [
            "Doğru\n"
          ]
        }
      ]
    },
    {
      "cell_type": "code",
      "source": [
        "if False:\n",
        "  print('Doğru')\n",
        "else:\n",
        "  print('Yanlış')"
      ],
      "metadata": {
        "colab": {
          "base_uri": "https://localhost:8080/"
        },
        "id": "YzEoWWxM58jK",
        "outputId": "0ee73b1b-d302-48f5-e998-a63d7c1a1b20"
      },
      "execution_count": null,
      "outputs": [
        {
          "output_type": "stream",
          "name": "stdout",
          "text": [
            "Yanlış\n"
          ]
        }
      ]
    },
    {
      "cell_type": "markdown",
      "source": [
        "Tanımlı Boolean operatorleri: and, or, not"
      ],
      "metadata": {
        "id": "gHvRV3an6ANm"
      }
    },
    {
      "cell_type": "code",
      "source": [
        "print(True and False) #&&\n",
        "print(True or False) #//\n",
        "print(not(True)) # !"
      ],
      "metadata": {
        "colab": {
          "base_uri": "https://localhost:8080/"
        },
        "id": "7cckk8Rq6NZE",
        "outputId": "13f79cc3-455f-446b-86da-02edbce33423"
      },
      "execution_count": null,
      "outputs": [
        {
          "output_type": "stream",
          "name": "stdout",
          "text": [
            "False\n",
            "True\n",
            "False\n"
          ]
        }
      ]
    },
    {
      "cell_type": "markdown",
      "source": [
        "Boolean döndüren kıyaslama operatorleri:\n",
        "\n",
        "*<, > : Küçüktür, büyüktür.\n",
        "\n",
        "<=, >=: küçük veya eşittir, büyük veya eşittir.\n",
        "\n",
        "== : eşittir\n",
        "\n",
        "!=eşit değildir\n",
        "\n",
        "is : referans eşittir (bazı durumlarda içeriğine de bakar)"
      ],
      "metadata": {
        "id": "i9OH9ZPw6dGn"
      }
    },
    {
      "cell_type": "code",
      "source": [
        "print(5.1 > 5)\n",
        "\n",
        "print(5>= 5)\n",
        "\n",
        "print( 5 < 5)\n",
        "\n",
        "print(5 !=4)\n",
        "\n",
        "print(5==5)"
      ],
      "metadata": {
        "colab": {
          "base_uri": "https://localhost:8080/"
        },
        "id": "FjEcY8xh67Pi",
        "outputId": "8efa7865-622b-43d4-b7e5-0490a658e5b2"
      },
      "execution_count": null,
      "outputs": [
        {
          "output_type": "stream",
          "name": "stdout",
          "text": [
            "True\n",
            "True\n",
            "False\n",
            "True\n",
            "True\n"
          ]
        }
      ]
    },
    {
      "cell_type": "markdown",
      "source": [
        "##Diziler (Strings)\n",
        "\n",
        "Pyhtonda dizgi tanımlamak için tek tırnak veya çift tırnak kullanılır."
      ],
      "metadata": {
        "id": "54aI0pTz7Rox"
      }
    },
    {
      "cell_type": "code",
      "source": [
        "print('Merhaba Dünya')\n",
        "print('Selamlar')"
      ],
      "metadata": {
        "colab": {
          "base_uri": "https://localhost:8080/"
        },
        "id": "95yL_pA97Gyt",
        "outputId": "b7ed6d13-5fe1-4644-cb0d-2b1f3df5295f"
      },
      "execution_count": null,
      "outputs": [
        {
          "output_type": "stream",
          "name": "stdout",
          "text": [
            "Merhaba Dünya\n",
            "Selamlar\n"
          ]
        }
      ]
    },
    {
      "cell_type": "code",
      "source": [
        "type('Selamlar')"
      ],
      "metadata": {
        "colab": {
          "base_uri": "https://localhost:8080/"
        },
        "id": "cb88tUAF7l2F",
        "outputId": "1579e893-bc01-4d8c-8e05-e188ec986ddb"
      },
      "execution_count": null,
      "outputs": [
        {
          "output_type": "execute_result",
          "data": {
            "text/plain": [
              "str"
            ]
          },
          "metadata": {},
          "execution_count": 39
        }
      ]
    },
    {
      "cell_type": "code",
      "source": [
        "##Çeşitli string tanımlama örnekleri"
      ],
      "metadata": {
        "id": "00fllmw777hU"
      },
      "execution_count": null,
      "outputs": []
    },
    {
      "cell_type": "code",
      "source": [
        "kelime ='kelime'\n",
        "cümle =\"Bu bir cümle\"\n",
        "paragraf =\"\"\"Bu bir paragraf. Birden fazla cümleden oluşur.\n",
        "İstenirse alt satıra da yazılır.\"\"\" #Çift tırnakların yerine tek tırnak da kullanılabilir."
      ],
      "metadata": {
        "id": "w64GLmTY8Bvw"
      },
      "execution_count": null,
      "outputs": []
    }
  ]
}